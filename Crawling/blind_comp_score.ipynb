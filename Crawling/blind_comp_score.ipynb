{
 "cells": [
  {
   "cell_type": "code",
   "execution_count": 1,
   "id": "2de3275b",
   "metadata": {},
   "outputs": [],
   "source": [
    "from bs4 import BeautifulSoup\n",
    "import urllib.request\n",
    "from urllib.request import urlopen\n",
    "from urllib.parse import quote_plus\n",
    "import requests\n",
    "\n",
    "import warnings\n",
    "warnings.filterwarnings('ignore')\n",
    "\n",
    "import os\n",
    "import selenium\n",
    "from selenium import webdriver\n",
    "import re\n",
    "from datetime import datetime as dt, timedelta\n",
    "import datetime\n",
    "from tqdm import tqdm\n",
    "\n",
    "import pandas as pd\n",
    "import time\n",
    "import math\n",
    "import numpy as np\n",
    "\n",
    "from dateutil.parser import parse\n",
    "from selenium.webdriver import Chrome, ChromeOptions\n",
    "import lxml\n",
    "import lxml.html"
   ]
  },
  {
   "cell_type": "code",
   "execution_count": 2,
   "id": "9219d52a",
   "metadata": {},
   "outputs": [
    {
     "data": {
      "text/html": [
       "<div>\n",
       "<style scoped>\n",
       "    .dataframe tbody tr th:only-of-type {\n",
       "        vertical-align: middle;\n",
       "    }\n",
       "\n",
       "    .dataframe tbody tr th {\n",
       "        vertical-align: top;\n",
       "    }\n",
       "\n",
       "    .dataframe thead th {\n",
       "        text-align: right;\n",
       "    }\n",
       "</style>\n",
       "<table border=\"1\" class=\"dataframe\">\n",
       "  <thead>\n",
       "    <tr style=\"text-align: right;\">\n",
       "      <th></th>\n",
       "      <th>서비스업</th>\n",
       "      <th>제조/화학</th>\n",
       "      <th>의료/제약/복지</th>\n",
       "      <th>유통/무역/운송</th>\n",
       "      <th>교육업</th>\n",
       "      <th>건설업</th>\n",
       "      <th>IT/웹/통신</th>\n",
       "      <th>미디어/디자인</th>\n",
       "      <th>은행/금융업</th>\n",
       "      <th>기관/협회</th>\n",
       "    </tr>\n",
       "  </thead>\n",
       "  <tbody>\n",
       "    <tr>\n",
       "      <th>0</th>\n",
       "      <td>스타벅스커피코리아</td>\n",
       "      <td>삼성전자</td>\n",
       "      <td>한미약품</td>\n",
       "      <td>씨제이올리브영</td>\n",
       "      <td>해커스 교육그룹</td>\n",
       "      <td>한국토지주택공사</td>\n",
       "      <td>쿠팡</td>\n",
       "      <td>씨제이씨지브이</td>\n",
       "      <td>국민건강보험공단</td>\n",
       "      <td>대한무역투자진흥공사</td>\n",
       "    </tr>\n",
       "    <tr>\n",
       "      <th>1</th>\n",
       "      <td>한국맥도날드</td>\n",
       "      <td>엘지전자</td>\n",
       "      <td>대웅제약</td>\n",
       "      <td>에프알엘코리아</td>\n",
       "      <td>동화세상에듀코</td>\n",
       "      <td>한전KPS</td>\n",
       "      <td>㈜티몬</td>\n",
       "      <td>롯데시네마</td>\n",
       "      <td>새마을금고</td>\n",
       "      <td>삼일회계법인</td>\n",
       "    </tr>\n",
       "    <tr>\n",
       "      <th>2</th>\n",
       "      <td>롯데리아</td>\n",
       "      <td>엘지디스플레이</td>\n",
       "      <td>종근당</td>\n",
       "      <td>한샘</td>\n",
       "      <td>에스티유니타스</td>\n",
       "      <td>현대엔지니어링</td>\n",
       "      <td>위메프</td>\n",
       "      <td>씨제이이앤엠</td>\n",
       "      <td>근로복지공단</td>\n",
       "      <td>한영회계법인</td>\n",
       "    </tr>\n",
       "    <tr>\n",
       "      <th>3</th>\n",
       "      <td>하나투어</td>\n",
       "      <td>현대자동차</td>\n",
       "      <td>녹십자</td>\n",
       "      <td>이마트</td>\n",
       "      <td>에듀윌</td>\n",
       "      <td>현대건설</td>\n",
       "      <td>삼성에스디에스</td>\n",
       "      <td>교원</td>\n",
       "      <td>농협은행</td>\n",
       "      <td>안진회계법인</td>\n",
       "    </tr>\n",
       "    <tr>\n",
       "      <th>4</th>\n",
       "      <td>유베이스</td>\n",
       "      <td>엘지이노텍</td>\n",
       "      <td>한국유나이티드제약</td>\n",
       "      <td>홈플러스</td>\n",
       "      <td>대교</td>\n",
       "      <td>대우건설</td>\n",
       "      <td>엘지씨엔에스</td>\n",
       "      <td>문화방송</td>\n",
       "      <td>중소기업은행</td>\n",
       "      <td>삼정회계법인</td>\n",
       "    </tr>\n",
       "    <tr>\n",
       "      <th>...</th>\n",
       "      <td>...</td>\n",
       "      <td>...</td>\n",
       "      <td>...</td>\n",
       "      <td>...</td>\n",
       "      <td>...</td>\n",
       "      <td>...</td>\n",
       "      <td>...</td>\n",
       "      <td>...</td>\n",
       "      <td>...</td>\n",
       "      <td>...</td>\n",
       "    </tr>\n",
       "    <tr>\n",
       "      <th>95</th>\n",
       "      <td>마이크임팩트</td>\n",
       "      <td>메디앙스</td>\n",
       "      <td>펜믹스</td>\n",
       "      <td>올림푸스한국</td>\n",
       "      <td>창의와탐구</td>\n",
       "      <td>평화엔지니어링</td>\n",
       "      <td>데이터스트림즈</td>\n",
       "      <td>아이코닉스</td>\n",
       "      <td>예금보험공사</td>\n",
       "      <td>서울산업진흥원</td>\n",
       "    </tr>\n",
       "    <tr>\n",
       "      <th>96</th>\n",
       "      <td>부킹닷컴코리아</td>\n",
       "      <td>한국가스공사</td>\n",
       "      <td>종근당바이오</td>\n",
       "      <td>필립스코리아</td>\n",
       "      <td>하이컨시</td>\n",
       "      <td>비엔에이치</td>\n",
       "      <td>위메이드</td>\n",
       "      <td>엠디마케팅</td>\n",
       "      <td>카카오페이</td>\n",
       "      <td>한국식품연구원</td>\n",
       "    </tr>\n",
       "    <tr>\n",
       "      <th>97</th>\n",
       "      <td>한국기업데이터</td>\n",
       "      <td>타이코에이엠피</td>\n",
       "      <td>경희의료원</td>\n",
       "      <td>트라이씨클</td>\n",
       "      <td>글로벌콘텐츠리퍼블릭</td>\n",
       "      <td>세아네트웍스</td>\n",
       "      <td>이카운트</td>\n",
       "      <td>한국학술정보</td>\n",
       "      <td>제이비우리캐피탈</td>\n",
       "      <td>법무법인세종</td>\n",
       "    </tr>\n",
       "    <tr>\n",
       "      <th>98</th>\n",
       "      <td>바이오톡스텍</td>\n",
       "      <td>에스케이케미칼</td>\n",
       "      <td>세이브더칠드런코리아</td>\n",
       "      <td>브리티쉬아메리칸토바코코리아</td>\n",
       "      <td>제이엠커리어</td>\n",
       "      <td>경남기업</td>\n",
       "      <td>에스케이브로드밴드</td>\n",
       "      <td>한국우편사업진흥원</td>\n",
       "      <td>엔에이치농협캐피탈</td>\n",
       "      <td>세종문화회관</td>\n",
       "    </tr>\n",
       "    <tr>\n",
       "      <th>99</th>\n",
       "      <td>에스케이렌터카</td>\n",
       "      <td>엘에스엠트론</td>\n",
       "      <td>경남제약</td>\n",
       "      <td>그린글로브라인</td>\n",
       "      <td>영남이공대학교</td>\n",
       "      <td>신세계건설</td>\n",
       "      <td>아이마켓코리아</td>\n",
       "      <td>레뷰코퍼레이션</td>\n",
       "      <td>농협생명보험</td>\n",
       "      <td>인터브랜드</td>\n",
       "    </tr>\n",
       "  </tbody>\n",
       "</table>\n",
       "<p>100 rows × 10 columns</p>\n",
       "</div>"
      ],
      "text/plain": [
       "         서비스업    제조/화학    의료/제약/복지        유통/무역/운송         교육업       건설업  \\\n",
       "0   스타벅스커피코리아     삼성전자        한미약품         씨제이올리브영    해커스 교육그룹  한국토지주택공사   \n",
       "1      한국맥도날드     엘지전자        대웅제약         에프알엘코리아     동화세상에듀코     한전KPS   \n",
       "2       롯데리아   엘지디스플레이         종근당              한샘     에스티유니타스   현대엔지니어링   \n",
       "3        하나투어    현대자동차         녹십자             이마트         에듀윌      현대건설   \n",
       "4        유베이스    엘지이노텍   한국유나이티드제약            홈플러스          대교      대우건설   \n",
       "..        ...      ...         ...             ...         ...       ...   \n",
       "95     마이크임팩트     메디앙스         펜믹스          올림푸스한국       창의와탐구   평화엔지니어링   \n",
       "96    부킹닷컴코리아   한국가스공사      종근당바이오          필립스코리아        하이컨시     비엔에이치   \n",
       "97    한국기업데이터  타이코에이엠피       경희의료원           트라이씨클  글로벌콘텐츠리퍼블릭    세아네트웍스   \n",
       "98     바이오톡스텍  에스케이케미칼  세이브더칠드런코리아  브리티쉬아메리칸토바코코리아      제이엠커리어      경남기업   \n",
       "99    에스케이렌터카   엘에스엠트론        경남제약         그린글로브라인     영남이공대학교     신세계건설   \n",
       "\n",
       "      IT/웹/통신    미디어/디자인     은행/금융업       기관/협회  \n",
       "0          쿠팡    씨제이씨지브이   국민건강보험공단  대한무역투자진흥공사  \n",
       "1         ㈜티몬     롯데시네마       새마을금고      삼일회계법인  \n",
       "2         위메프     씨제이이앤엠     근로복지공단      한영회계법인  \n",
       "3     삼성에스디에스         교원       농협은행      안진회계법인  \n",
       "4      엘지씨엔에스       문화방송     중소기업은행      삼정회계법인  \n",
       "..        ...        ...        ...         ...  \n",
       "95    데이터스트림즈      아이코닉스     예금보험공사     서울산업진흥원  \n",
       "96       위메이드      엠디마케팅      카카오페이     한국식품연구원  \n",
       "97       이카운트     한국학술정보   제이비우리캐피탈      법무법인세종  \n",
       "98  에스케이브로드밴드  한국우편사업진흥원  엔에이치농협캐피탈      세종문화회관  \n",
       "99    아이마켓코리아    레뷰코퍼레이션     농협생명보험       인터브랜드  \n",
       "\n",
       "[100 rows x 10 columns]"
      ]
     },
     "execution_count": 2,
     "metadata": {},
     "output_type": "execute_result"
    }
   ],
   "source": [
    "comp_list = pd.read_excel('./data/comp_list.xlsx').iloc[:,1:]\n",
    "comp_list"
   ]
  },
  {
   "cell_type": "code",
   "execution_count": 6,
   "id": "2bd10179",
   "metadata": {},
   "outputs": [],
   "source": [
    "comp_score = pd.DataFrame(columns=['category','name','average','career','wlb','money','culture'])"
   ]
  },
  {
   "cell_type": "code",
   "execution_count": 4,
   "id": "60f87aa4",
   "metadata": {},
   "outputs": [],
   "source": [
    "comp_list_pre = pd.DataFrame(columns=['category','name'])\n",
    "for i in comp_list.columns:\n",
    "    t = pd.DataFrame({'category':i, 'name':comp_list[i]})\n",
    "    comp_list_pre = pd.concat([comp_list_pre, t], axis=0)\n",
    "    \n",
    "comp_list_pre = comp_list_pre.reset_index(drop=True)"
   ]
  },
  {
   "cell_type": "code",
   "execution_count": 5,
   "id": "5dd2979f",
   "metadata": {},
   "outputs": [
    {
     "data": {
      "text/html": [
       "<div>\n",
       "<style scoped>\n",
       "    .dataframe tbody tr th:only-of-type {\n",
       "        vertical-align: middle;\n",
       "    }\n",
       "\n",
       "    .dataframe tbody tr th {\n",
       "        vertical-align: top;\n",
       "    }\n",
       "\n",
       "    .dataframe thead th {\n",
       "        text-align: right;\n",
       "    }\n",
       "</style>\n",
       "<table border=\"1\" class=\"dataframe\">\n",
       "  <thead>\n",
       "    <tr style=\"text-align: right;\">\n",
       "      <th></th>\n",
       "      <th>category</th>\n",
       "      <th>name</th>\n",
       "    </tr>\n",
       "  </thead>\n",
       "  <tbody>\n",
       "    <tr>\n",
       "      <th>0</th>\n",
       "      <td>서비스업</td>\n",
       "      <td>스타벅스커피코리아</td>\n",
       "    </tr>\n",
       "    <tr>\n",
       "      <th>1</th>\n",
       "      <td>서비스업</td>\n",
       "      <td>한국맥도날드</td>\n",
       "    </tr>\n",
       "    <tr>\n",
       "      <th>2</th>\n",
       "      <td>서비스업</td>\n",
       "      <td>롯데리아</td>\n",
       "    </tr>\n",
       "    <tr>\n",
       "      <th>3</th>\n",
       "      <td>서비스업</td>\n",
       "      <td>하나투어</td>\n",
       "    </tr>\n",
       "    <tr>\n",
       "      <th>4</th>\n",
       "      <td>서비스업</td>\n",
       "      <td>유베이스</td>\n",
       "    </tr>\n",
       "    <tr>\n",
       "      <th>...</th>\n",
       "      <td>...</td>\n",
       "      <td>...</td>\n",
       "    </tr>\n",
       "    <tr>\n",
       "      <th>995</th>\n",
       "      <td>기관/협회</td>\n",
       "      <td>서울산업진흥원</td>\n",
       "    </tr>\n",
       "    <tr>\n",
       "      <th>996</th>\n",
       "      <td>기관/협회</td>\n",
       "      <td>한국식품연구원</td>\n",
       "    </tr>\n",
       "    <tr>\n",
       "      <th>997</th>\n",
       "      <td>기관/협회</td>\n",
       "      <td>법무법인세종</td>\n",
       "    </tr>\n",
       "    <tr>\n",
       "      <th>998</th>\n",
       "      <td>기관/협회</td>\n",
       "      <td>세종문화회관</td>\n",
       "    </tr>\n",
       "    <tr>\n",
       "      <th>999</th>\n",
       "      <td>기관/협회</td>\n",
       "      <td>인터브랜드</td>\n",
       "    </tr>\n",
       "  </tbody>\n",
       "</table>\n",
       "<p>1000 rows × 2 columns</p>\n",
       "</div>"
      ],
      "text/plain": [
       "    category       name\n",
       "0       서비스업  스타벅스커피코리아\n",
       "1       서비스업     한국맥도날드\n",
       "2       서비스업      롯데리아 \n",
       "3       서비스업       하나투어\n",
       "4       서비스업       유베이스\n",
       "..       ...        ...\n",
       "995    기관/협회    서울산업진흥원\n",
       "996    기관/협회    한국식품연구원\n",
       "997    기관/협회     법무법인세종\n",
       "998    기관/협회     세종문화회관\n",
       "999    기관/협회      인터브랜드\n",
       "\n",
       "[1000 rows x 2 columns]"
      ]
     },
     "execution_count": 5,
     "metadata": {},
     "output_type": "execute_result"
    }
   ],
   "source": [
    "comp_list_pre"
   ]
  },
  {
   "cell_type": "code",
   "execution_count": null,
   "id": "942390a3",
   "metadata": {},
   "outputs": [
    {
     "name": "stderr",
     "output_type": "stream",
     "text": [
      "  0%|▏                                                                              | 2/1000 [00:11<1:31:19,  5.49s/it]"
     ]
    },
    {
     "name": "stdout",
     "output_type": "stream",
     "text": [
      "롯데리아 \n"
     ]
    },
    {
     "name": "stderr",
     "output_type": "stream",
     "text": [
      "  1%|▊                                                                             | 11/1000 [00:47<1:08:38,  4.16s/it]"
     ]
    },
    {
     "name": "stdout",
     "output_type": "stream",
     "text": [
      "씨제이푸드빌\n"
     ]
    },
    {
     "name": "stderr",
     "output_type": "stream",
     "text": [
      "  1%|█                                                                               | 13/1000 [00:52<56:08,  3.41s/it]"
     ]
    },
    {
     "name": "stdout",
     "output_type": "stream",
     "text": [
      "에스케이쉴더스\n"
     ]
    },
    {
     "name": "stderr",
     "output_type": "stream",
     "text": [
      "\r",
      "  1%|█                                                                               | 14/1000 [00:54<48:08,  2.93s/it]"
     ]
    },
    {
     "name": "stdout",
     "output_type": "stream",
     "text": [
      "빕스 \n"
     ]
    },
    {
     "name": "stderr",
     "output_type": "stream",
     "text": [
      "  2%|█▋                                                                              | 21/1000 [01:18<58:21,  3.58s/it]"
     ]
    },
    {
     "name": "stdout",
     "output_type": "stream",
     "text": [
      "던킨/던킨도너츠 \n"
     ]
    },
    {
     "name": "stderr",
     "output_type": "stream",
     "text": [
      "  2%|█▊                                                                              | 23/1000 [01:23<50:42,  3.11s/it]"
     ]
    },
    {
     "name": "stdout",
     "output_type": "stream",
     "text": [
      "뚜레쥬르 \n"
     ]
    },
    {
     "name": "stderr",
     "output_type": "stream",
     "text": [
      "  2%|██                                                                              | 25/1000 [01:28<48:21,  2.98s/it]"
     ]
    },
    {
     "name": "stdout",
     "output_type": "stream",
     "text": [
      "케이에이\n"
     ]
    },
    {
     "name": "stderr",
     "output_type": "stream",
     "text": [
      "  3%|██▏                                                                             | 27/1000 [01:34<48:52,  3.01s/it]"
     ]
    },
    {
     "name": "stdout",
     "output_type": "stream",
     "text": [
      "에이디티캡스\n"
     ]
    },
    {
     "name": "stderr",
     "output_type": "stream",
     "text": [
      "  3%|██▍                                                                             | 31/1000 [01:46<51:28,  3.19s/it]"
     ]
    },
    {
     "name": "stdout",
     "output_type": "stream",
     "text": [
      "세일즈웍스 코리아\n"
     ]
    },
    {
     "name": "stderr",
     "output_type": "stream",
     "text": [
      "  3%|██▋                                                                             | 33/1000 [01:51<46:48,  2.90s/it]"
     ]
    },
    {
     "name": "stdout",
     "output_type": "stream",
     "text": [
      "한화호텔앤드리조트\n"
     ]
    },
    {
     "name": "stderr",
     "output_type": "stream",
     "text": [
      "  4%|███▍                                                                          | 44/1000 [02:31<1:00:31,  3.80s/it]"
     ]
    },
    {
     "name": "stdout",
     "output_type": "stream",
     "text": [
      "그랜드코리아레저\n"
     ]
    },
    {
     "name": "stderr",
     "output_type": "stream",
     "text": [
      "  5%|███▋                                                                            | 46/1000 [02:37<55:33,  3.49s/it]"
     ]
    },
    {
     "name": "stdout",
     "output_type": "stream",
     "text": [
      "에스피씨그룹\n"
     ]
    },
    {
     "name": "stderr",
     "output_type": "stream",
     "text": [
      "  5%|███▉                                                                            | 49/1000 [02:44<44:09,  2.79s/it]"
     ]
    },
    {
     "name": "stdout",
     "output_type": "stream",
     "text": [
      "대명레저산업\n"
     ]
    },
    {
     "name": "stderr",
     "output_type": "stream",
     "text": [
      "  5%|████                                                                            | 51/1000 [02:50<45:38,  2.89s/it]"
     ]
    },
    {
     "name": "stdout",
     "output_type": "stream",
     "text": [
      "코티티시험연구원\n"
     ]
    },
    {
     "name": "stderr",
     "output_type": "stream",
     "text": [
      "  5%|████▏                                                                           | 53/1000 [02:56<47:44,  3.02s/it]"
     ]
    },
    {
     "name": "stdout",
     "output_type": "stream",
     "text": [
      "티지아이프라이데이스 \n"
     ]
    },
    {
     "name": "stderr",
     "output_type": "stream",
     "text": [
      "  6%|████▍                                                                           | 55/1000 [03:03<52:11,  3.31s/it]"
     ]
    },
    {
     "name": "stdout",
     "output_type": "stream",
     "text": [
      "프로에스콤\n"
     ]
    },
    {
     "name": "stderr",
     "output_type": "stream",
     "text": [
      "  6%|████▋                                                                           | 58/1000 [03:12<48:48,  3.11s/it]"
     ]
    },
    {
     "name": "stdout",
     "output_type": "stream",
     "text": [
      "에이제이네트웍스\n"
     ]
    },
    {
     "name": "stderr",
     "output_type": "stream",
     "text": [
      "  6%|████▊                                                                           | 60/1000 [03:16<43:46,  2.79s/it]"
     ]
    },
    {
     "name": "stdout",
     "output_type": "stream",
     "text": [
      "키자니아\n"
     ]
    },
    {
     "name": "stderr",
     "output_type": "stream",
     "text": [
      "  7%|█████▊                                                                          | 72/1000 [03:53<44:58,  2.91s/it]"
     ]
    },
    {
     "name": "stdout",
     "output_type": "stream",
     "text": [
      "엔에이치엔여행박사\n"
     ]
    },
    {
     "name": "stderr",
     "output_type": "stream",
     "text": [
      "  8%|██████▎                                                                         | 79/1000 [04:15<50:26,  3.29s/it]"
     ]
    },
    {
     "name": "stdout",
     "output_type": "stream",
     "text": [
      "더메인즈\n"
     ]
    },
    {
     "name": "stderr",
     "output_type": "stream",
     "text": [
      "  8%|██████▍                                                                         | 81/1000 [04:20<46:08,  3.01s/it]"
     ]
    },
    {
     "name": "stdout",
     "output_type": "stream",
     "text": [
      "해비치호텔앤드리조트\n"
     ]
    },
    {
     "name": "stderr",
     "output_type": "stream",
     "text": [
      "  8%|██████▋                                                                         | 84/1000 [04:29<48:48,  3.20s/it]"
     ]
    },
    {
     "name": "stdout",
     "output_type": "stream",
     "text": [
      "씨제이텔레닉스\n"
     ]
    },
    {
     "name": "stderr",
     "output_type": "stream",
     "text": [
      "  9%|██████▉                                                                         | 86/1000 [04:35<48:04,  3.16s/it]"
     ]
    },
    {
     "name": "stdout",
     "output_type": "stream",
     "text": [
      "씨에스원파트너\n"
     ]
    },
    {
     "name": "stderr",
     "output_type": "stream",
     "text": [
      "\r",
      "  9%|██████▉                                                                         | 87/1000 [04:37<42:31,  2.79s/it]"
     ]
    },
    {
     "name": "stdout",
     "output_type": "stream",
     "text": [
      "인터파크투어\n"
     ]
    },
    {
     "name": "stderr",
     "output_type": "stream",
     "text": [
      "  9%|███████▏                                                                        | 90/1000 [04:46<46:49,  3.09s/it]"
     ]
    },
    {
     "name": "stdout",
     "output_type": "stream",
     "text": [
      "케이티텔레캅\n"
     ]
    },
    {
     "name": "stderr",
     "output_type": "stream",
     "text": [
      "  9%|███████▍                                                                        | 93/1000 [04:56<49:10,  3.25s/it]"
     ]
    },
    {
     "name": "stdout",
     "output_type": "stream",
     "text": [
      "제이더블유메리어트호텔\n"
     ]
    },
    {
     "name": "stderr",
     "output_type": "stream",
     "text": [
      " 10%|███████▉                                                                        | 99/1000 [05:14<53:19,  3.55s/it]"
     ]
    },
    {
     "name": "stdout",
     "output_type": "stream",
     "text": [
      "에스케이렌터카\n"
     ]
    },
    {
     "name": "stderr",
     "output_type": "stream",
     "text": [
      " 10%|███████▉                                                                       | 101/1000 [05:20<48:41,  3.25s/it]"
     ]
    },
    {
     "name": "stdout",
     "output_type": "stream",
     "text": [
      "엘지전자\n"
     ]
    },
    {
     "name": "stderr",
     "output_type": "stream",
     "text": [
      "\r",
      " 10%|████████                                                                       | 102/1000 [05:22<43:13,  2.89s/it]"
     ]
    },
    {
     "name": "stdout",
     "output_type": "stream",
     "text": [
      "엘지디스플레이\n"
     ]
    },
    {
     "name": "stderr",
     "output_type": "stream",
     "text": [
      " 10%|████████▏                                                                      | 104/1000 [05:27<43:11,  2.89s/it]"
     ]
    },
    {
     "name": "stdout",
     "output_type": "stream",
     "text": [
      "엘지이노텍\n"
     ]
    },
    {
     "name": "stderr",
     "output_type": "stream",
     "text": [
      " 11%|████████▌                                                                      | 109/1000 [05:45<53:54,  3.63s/it]"
     ]
    },
    {
     "name": "stdout",
     "output_type": "stream",
     "text": [
      "에스케이하이닉스\n"
     ]
    },
    {
     "name": "stderr",
     "output_type": "stream",
     "text": [
      " 11%|████████▊                                                                      | 112/1000 [05:55<54:05,  3.65s/it]"
     ]
    },
    {
     "name": "stdout",
     "output_type": "stream",
     "text": [
      "포스코\n"
     ]
    },
    {
     "name": "stderr",
     "output_type": "stream",
     "text": [
      "\r",
      " 11%|████████▉                                                                      | 113/1000 [05:57<45:41,  3.09s/it]"
     ]
    },
    {
     "name": "stdout",
     "output_type": "stream",
     "text": [
      "삼성에스디아이\n"
     ]
    },
    {
     "name": "stderr",
     "output_type": "stream",
     "text": [
      "\r",
      " 11%|█████████                                                                      | 114/1000 [05:59<40:14,  2.73s/it]"
     ]
    },
    {
     "name": "stdout",
     "output_type": "stream",
     "text": [
      "케이씨씨\n"
     ]
    },
    {
     "name": "stderr",
     "output_type": "stream",
     "text": [
      "\r",
      " 12%|█████████                                                                      | 115/1000 [06:01<36:02,  2.44s/it]"
     ]
    },
    {
     "name": "stdout",
     "output_type": "stream",
     "text": [
      "앰코테크놀로지코리아\n"
     ]
    },
    {
     "name": "stderr",
     "output_type": "stream",
     "text": [
      " 12%|█████████▎                                                                     | 118/1000 [06:11<49:19,  3.36s/it]"
     ]
    },
    {
     "name": "stdout",
     "output_type": "stream",
     "text": [
      "배스킨라빈스 \n"
     ]
    },
    {
     "name": "stderr",
     "output_type": "stream",
     "text": [
      " 12%|█████████▉                                                                     | 125/1000 [06:36<52:58,  3.63s/it]"
     ]
    },
    {
     "name": "stdout",
     "output_type": "stream",
     "text": [
      "엘지생활건강\n"
     ]
    },
    {
     "name": "stderr",
     "output_type": "stream",
     "text": [
      " 13%|██████████▏                                                                    | 129/1000 [06:49<52:51,  3.64s/it]"
     ]
    },
    {
     "name": "stdout",
     "output_type": "stream",
     "text": [
      "동원에프앤비\n"
     ]
    },
    {
     "name": "stderr",
     "output_type": "stream",
     "text": [
      " 14%|██████████▉                                                                    | 139/1000 [07:28<56:55,  3.97s/it]"
     ]
    },
    {
     "name": "stdout",
     "output_type": "stream",
     "text": [
      "두산인프라코어\n"
     ]
    },
    {
     "name": "stderr",
     "output_type": "stream",
     "text": [
      "\r",
      " 14%|███████████                                                                    | 140/1000 [07:30<47:34,  3.32s/it]"
     ]
    },
    {
     "name": "stdout",
     "output_type": "stream",
     "text": [
      "해태제과식품\n"
     ]
    },
    {
     "name": "stderr",
     "output_type": "stream",
     "text": [
      "\r",
      " 14%|███████████▏                                                                   | 141/1000 [07:31<41:05,  2.87s/it]"
     ]
    },
    {
     "name": "stdout",
     "output_type": "stream",
     "text": [
      "일진글로벌홀딩스\n"
     ]
    },
    {
     "name": "stderr",
     "output_type": "stream",
     "text": [
      " 16%|████████████▍                                                                  | 157/1000 [08:32<56:59,  4.06s/it]"
     ]
    },
    {
     "name": "stdout",
     "output_type": "stream",
     "text": [
      "엘엑스하우시스\n"
     ]
    },
    {
     "name": "stderr",
     "output_type": "stream",
     "text": [
      " 17%|█████████████▍                                                                 | 170/1000 [09:19<53:03,  3.84s/it]"
     ]
    },
    {
     "name": "stdout",
     "output_type": "stream",
     "text": [
      "팬택\n"
     ]
    },
    {
     "name": "stderr",
     "output_type": "stream",
     "text": [
      " 17%|█████████████▌                                                                 | 172/1000 [09:25<47:21,  3.43s/it]"
     ]
    },
    {
     "name": "stdout",
     "output_type": "stream",
     "text": [
      "에스케이실트론\n"
     ]
    },
    {
     "name": "stderr",
     "output_type": "stream",
     "text": [
      " 18%|█████████████▊                                                                 | 175/1000 [09:34<45:19,  3.30s/it]"
     ]
    },
    {
     "name": "stdout",
     "output_type": "stream",
     "text": [
      "한국타이어\n"
     ]
    },
    {
     "name": "stderr",
     "output_type": "stream",
     "text": [
      " 20%|███████████████                                                              | 195/1000 [10:55<1:05:09,  4.86s/it]"
     ]
    },
    {
     "name": "stdout",
     "output_type": "stream",
     "text": [
      "메디앙스\n"
     ]
    },
    {
     "name": "stderr",
     "output_type": "stream",
     "text": [
      " 20%|███████████████▏                                                             | 198/1000 [11:10<1:08:27,  5.12s/it]"
     ]
    },
    {
     "name": "stdout",
     "output_type": "stream",
     "text": [
      "에스케이케미칼\n"
     ]
    },
    {
     "name": "stderr",
     "output_type": "stream",
     "text": [
      "\r",
      " 20%|███████████████▋                                                               | 199/1000 [11:12<57:50,  4.33s/it]"
     ]
    },
    {
     "name": "stdout",
     "output_type": "stream",
     "text": [
      "엘에스엠트론\n"
     ]
    },
    {
     "name": "stderr",
     "output_type": "stream",
     "text": [
      " 21%|████████████████▏                                                            | 210/1000 [12:16<1:18:22,  5.95s/it]"
     ]
    },
    {
     "name": "stdout",
     "output_type": "stream",
     "text": [
      "제이더블유중외제약\n"
     ]
    },
    {
     "name": "stderr",
     "output_type": "stream",
     "text": [
      "\r",
      " 21%|████████████████▏                                                            | 211/1000 [12:18<1:03:02,  4.79s/it]"
     ]
    },
    {
     "name": "stdout",
     "output_type": "stream",
     "text": [
      "에이치케이이노엔\n"
     ]
    },
    {
     "name": "stderr",
     "output_type": "stream",
     "text": [
      " 23%|█████████████████▌                                                           | 228/1000 [13:53<1:23:56,  6.52s/it]"
     ]
    },
    {
     "name": "stdout",
     "output_type": "stream",
     "text": [
      "한국화이자제약\n"
     ]
    },
    {
     "name": "stderr",
     "output_type": "stream",
     "text": [
      " 23%|█████████████████▊                                                           | 231/1000 [14:06<1:08:28,  5.34s/it]"
     ]
    },
    {
     "name": "stdout",
     "output_type": "stream",
     "text": [
      "동아에스티\n"
     ]
    },
    {
     "name": "stderr",
     "output_type": "stream",
     "text": [
      " 24%|██████████████████▊                                                          | 244/1000 [15:17<1:16:45,  6.09s/it]"
     ]
    },
    {
     "name": "stdout",
     "output_type": "stream",
     "text": [
      "메디톡스\n"
     ]
    },
    {
     "name": "stderr",
     "output_type": "stream",
     "text": [
      "\r",
      " 24%|██████████████████▊                                                          | 245/1000 [15:19<1:01:59,  4.93s/it]"
     ]
    },
    {
     "name": "stdout",
     "output_type": "stream",
     "text": [
      "경동제약\n"
     ]
    },
    {
     "name": "stderr",
     "output_type": "stream",
     "text": [
      "\r",
      " 25%|███████████████████▍                                                           | 246/1000 [15:20<47:21,  3.77s/it]"
     ]
    },
    {
     "name": "stdout",
     "output_type": "stream",
     "text": [
      "오상헬스케어\n"
     ]
    },
    {
     "name": "stderr",
     "output_type": "stream",
     "text": [
      "\r",
      " 25%|███████████████████▌                                                           | 247/1000 [15:21<37:09,  2.96s/it]"
     ]
    },
    {
     "name": "stdout",
     "output_type": "stream",
     "text": [
      "코오롱생명과학\n"
     ]
    },
    {
     "name": "stderr",
     "output_type": "stream",
     "text": [
      "\r",
      " 25%|███████████████████▌                                                           | 248/1000 [15:22<30:14,  2.41s/it]"
     ]
    },
    {
     "name": "stdout",
     "output_type": "stream",
     "text": [
      "경보제약\n"
     ]
    },
    {
     "name": "stderr",
     "output_type": "stream",
     "text": [
      "\r",
      " 25%|███████████████████▋                                                           | 249/1000 [15:23<25:20,  2.03s/it]"
     ]
    },
    {
     "name": "stdout",
     "output_type": "stream",
     "text": [
      "사회복지법인월드비전\n"
     ]
    },
    {
     "name": "stderr",
     "output_type": "stream",
     "text": [
      "\r",
      " 25%|███████████████████▊                                                           | 250/1000 [15:25<22:32,  1.80s/it]"
     ]
    },
    {
     "name": "stdout",
     "output_type": "stream",
     "text": [
      "한림제약\n"
     ]
    },
    {
     "name": "stderr",
     "output_type": "stream",
     "text": [
      "\r",
      " 25%|███████████████████▊                                                           | 251/1000 [15:26<19:49,  1.59s/it]"
     ]
    },
    {
     "name": "stdout",
     "output_type": "stream",
     "text": [
      "케어젠\n"
     ]
    },
    {
     "name": "stderr",
     "output_type": "stream",
     "text": [
      "\r",
      " 25%|███████████████████▉                                                           | 252/1000 [15:27<17:51,  1.43s/it]"
     ]
    },
    {
     "name": "stdout",
     "output_type": "stream",
     "text": [
      "신풍제약\n"
     ]
    },
    {
     "name": "stderr",
     "output_type": "stream",
     "text": [
      "\r",
      " 25%|███████████████████▉                                                           | 253/1000 [15:28<17:04,  1.37s/it]"
     ]
    },
    {
     "name": "stdout",
     "output_type": "stream",
     "text": [
      "대한적십자사\n"
     ]
    },
    {
     "name": "stderr",
     "output_type": "stream",
     "text": [
      "\r",
      " 25%|████████████████████                                                           | 254/1000 [15:29<15:57,  1.28s/it]"
     ]
    },
    {
     "name": "stdout",
     "output_type": "stream",
     "text": [
      "한국아이큐비아\n"
     ]
    },
    {
     "name": "stderr",
     "output_type": "stream",
     "text": [
      "\r",
      " 26%|████████████████████▏                                                          | 255/1000 [15:30<15:07,  1.22s/it]"
     ]
    },
    {
     "name": "stdout",
     "output_type": "stream",
     "text": [
      "제노스\n"
     ]
    },
    {
     "name": "stderr",
     "output_type": "stream",
     "text": [
      "\r",
      " 26%|████████████████████▏                                                          | 256/1000 [15:31<14:32,  1.17s/it]"
     ]
    },
    {
     "name": "stdout",
     "output_type": "stream",
     "text": [
      "유니메드제약\n"
     ]
    },
    {
     "name": "stderr",
     "output_type": "stream",
     "text": [
      "\r",
      " 26%|████████████████████▎                                                          | 257/1000 [15:32<14:07,  1.14s/it]"
     ]
    },
    {
     "name": "stdout",
     "output_type": "stream",
     "text": [
      "한스바이오메드\n"
     ]
    },
    {
     "name": "stderr",
     "output_type": "stream",
     "text": [
      "\r",
      " 26%|████████████████████▍                                                          | 258/1000 [15:33<13:50,  1.12s/it]"
     ]
    },
    {
     "name": "stdout",
     "output_type": "stream",
     "text": [
      "이연제약\n"
     ]
    },
    {
     "name": "stderr",
     "output_type": "stream",
     "text": [
      "\r",
      " 26%|████████████████████▍                                                          | 259/1000 [15:34<13:38,  1.10s/it]"
     ]
    },
    {
     "name": "stdout",
     "output_type": "stream",
     "text": [
      "동아제약\n"
     ]
    },
    {
     "name": "stderr",
     "output_type": "stream",
     "text": [
      "\r",
      " 26%|████████████████████▌                                                          | 260/1000 [15:36<13:34,  1.10s/it]"
     ]
    },
    {
     "name": "stdout",
     "output_type": "stream",
     "text": [
      "건일제약\n"
     ]
    },
    {
     "name": "stderr",
     "output_type": "stream",
     "text": [
      "\r",
      " 26%|████████████████████▌                                                          | 261/1000 [15:37<13:28,  1.09s/it]"
     ]
    },
    {
     "name": "stdout",
     "output_type": "stream",
     "text": [
      "유영제약\n"
     ]
    },
    {
     "name": "stderr",
     "output_type": "stream",
     "text": [
      "\r",
      " 26%|████████████████████▋                                                          | 262/1000 [15:38<13:22,  1.09s/it]"
     ]
    },
    {
     "name": "stdout",
     "output_type": "stream",
     "text": [
      "일성신약\n"
     ]
    },
    {
     "name": "stderr",
     "output_type": "stream",
     "text": [
      "\r",
      " 26%|████████████████████▊                                                          | 263/1000 [15:39<13:19,  1.08s/it]"
     ]
    },
    {
     "name": "stdout",
     "output_type": "stream",
     "text": [
      "동화약품\n"
     ]
    },
    {
     "name": "stderr",
     "output_type": "stream",
     "text": [
      "\r",
      " 26%|████████████████████▊                                                          | 264/1000 [15:40<13:17,  1.08s/it]"
     ]
    },
    {
     "name": "stdout",
     "output_type": "stream",
     "text": [
      "명인제약\n"
     ]
    },
    {
     "name": "stderr",
     "output_type": "stream",
     "text": [
      "\r",
      " 26%|████████████████████▉                                                          | 265/1000 [15:41<13:12,  1.08s/it]"
     ]
    },
    {
     "name": "stdout",
     "output_type": "stream",
     "text": [
      "유한화학\n"
     ]
    },
    {
     "name": "stderr",
     "output_type": "stream",
     "text": [
      "\r",
      " 27%|█████████████████████                                                          | 266/1000 [15:42<13:14,  1.08s/it]"
     ]
    },
    {
     "name": "stdout",
     "output_type": "stream",
     "text": [
      "하이로닉\n"
     ]
    },
    {
     "name": "stderr",
     "output_type": "stream",
     "text": [
      " 28%|█████████████████████▋                                                         | 275/1000 [16:16<47:37,  3.94s/it]"
     ]
    },
    {
     "name": "stdout",
     "output_type": "stream",
     "text": [
      "사회복지법인 밀알복지재단\n"
     ]
    },
    {
     "name": "stderr",
     "output_type": "stream",
     "text": [
      "\r",
      " 28%|█████████████████████▊                                                         | 276/1000 [16:17<38:37,  3.20s/it]"
     ]
    },
    {
     "name": "stdout",
     "output_type": "stream",
     "text": [
      "충남대학교병원\n"
     ]
    },
    {
     "name": "stderr",
     "output_type": "stream",
     "text": [
      "\r",
      " 28%|█████████████████████▉                                                         | 277/1000 [16:19<31:31,  2.62s/it]"
     ]
    },
    {
     "name": "stdout",
     "output_type": "stream",
     "text": [
      "에스디바이오센서\n"
     ]
    },
    {
     "name": "stderr",
     "output_type": "stream",
     "text": [
      "\r",
      " 28%|█████████████████████▉                                                         | 278/1000 [16:20<26:00,  2.16s/it]"
     ]
    },
    {
     "name": "stdout",
     "output_type": "stream",
     "text": [
      "로킷헬스케어\n"
     ]
    },
    {
     "name": "stderr",
     "output_type": "stream",
     "text": [
      "\r",
      " 28%|██████████████████████                                                         | 279/1000 [16:21<22:33,  1.88s/it]"
     ]
    },
    {
     "name": "stdout",
     "output_type": "stream",
     "text": [
      "동성제약\n"
     ]
    },
    {
     "name": "stderr",
     "output_type": "stream",
     "text": [
      "\r",
      " 28%|██████████████████████                                                         | 280/1000 [16:22<19:48,  1.65s/it]"
     ]
    },
    {
     "name": "stdout",
     "output_type": "stream",
     "text": [
      "영진약품\n"
     ]
    },
    {
     "name": "stderr",
     "output_type": "stream",
     "text": [
      "\r",
      " 28%|██████████████████████▏                                                        | 281/1000 [16:23<18:07,  1.51s/it]"
     ]
    }
   ],
   "source": [
    "op = ChromeOptions()\n",
    "# op.add_argument('--headless')\n",
    "op.add_argument('--no-sandbox')\n",
    "op.add_argument('--disable-dev-shm-usage')\n",
    "\n",
    "browser = Chrome('./chromedriver.exe', options=op)\n",
    "# browser.get('https://www.teamblind.com/kr/')\n",
    "\n",
    "# login = browser.find_element_by_xpath('//*[@id=\"wrap\"]/header/div/div/div/a[2]')\n",
    "# login.click()\n",
    "\n",
    "# time.sleep(15)\n",
    "\n",
    "not_list = []\n",
    "for i in tqdm(range(len(comp_list_pre))):\n",
    "    try:\n",
    "        cate = comp_list_pre.loc[i, 'category']\n",
    "        name = comp_list_pre.loc[i, 'name']\n",
    "        url = 'https://www.teamblind.com/kr/company/' + name + '/reviews?page=1'\n",
    "        browser.get(url)\n",
    "        time.sleep(0.5)\n",
    "        html = browser.page_source\n",
    "        root = lxml.html.fromstring(html)\n",
    "\n",
    "        average = root.cssselect('#wrap > section > div > div > div.cpctw > div > div > div > div > section:nth-child(1) > div > div.rating_stars > div.rating_no > strong')[0].text_content().replace('Rating Score','')\n",
    "        career = root.cssselect('#wrap > section > div > div > div.cpctw > div > div > div > div > section:nth-child(1) > div > div.rating_cate > ul > li:nth-child(1) > strong')[0].text_content()\n",
    "        wlb = root.cssselect('#wrap > section > div > div > div.cpctw > div > div > div > div > section:nth-child(1) > div > div.rating_cate > ul > li:nth-child(2) > strong')[0].text_content()\n",
    "        money = root.cssselect('#wrap > section > div > div > div.cpctw > div > div > div > div > section:nth-child(1) > div > div.rating_cate > ul > li:nth-child(3) > strong')[0].text_content()\n",
    "        culture = root.cssselect('#wrap > section > div > div > div.cpctw > div > div > div > div > section:nth-child(1) > div > div.rating_cate > ul > li:nth-child(4) > strong')[0].text_content()\n",
    "        board = root.cssselect('#wrap > section > div > div > div.cpctw > div > div > div > div > section:nth-child(1) > div > div.rating_cate > ul > li:nth-child(5) > strong')[0].text_content()\n",
    "        data_to_insert = {\n",
    "            'category': cate, 'name': name, 'average': average, 'career': career, 'wlb': wlb, 'money': money,\n",
    "            'culture': culture, 'board': board\n",
    "        }\n",
    "    \n",
    "        comp_score = comp_score.append(data_to_insert, ignore_index=True)\n",
    "        \n",
    "    except:\n",
    "        not_list.append(name)\n",
    "        print(name)\n",
    "\n",
    "        pass\n",
    "\n",
    "    time.sleep(0.5)"
   ]
  },
  {
   "cell_type": "code",
   "execution_count": 13,
   "id": "b8f44fac",
   "metadata": {
    "scrolled": true
   },
   "outputs": [
    {
     "data": {
      "text/html": [
       "<div>\n",
       "<style scoped>\n",
       "    .dataframe tbody tr th:only-of-type {\n",
       "        vertical-align: middle;\n",
       "    }\n",
       "\n",
       "    .dataframe tbody tr th {\n",
       "        vertical-align: top;\n",
       "    }\n",
       "\n",
       "    .dataframe thead th {\n",
       "        text-align: right;\n",
       "    }\n",
       "</style>\n",
       "<table border=\"1\" class=\"dataframe\">\n",
       "  <thead>\n",
       "    <tr style=\"text-align: right;\">\n",
       "      <th></th>\n",
       "      <th>category</th>\n",
       "      <th>name</th>\n",
       "      <th>homepage</th>\n",
       "      <th>upjong</th>\n",
       "      <th>geo</th>\n",
       "      <th>foundation</th>\n",
       "      <th>employee</th>\n",
       "      <th>sal_min</th>\n",
       "      <th>sal_mid</th>\n",
       "      <th>sal_max</th>\n",
       "      <th>bonus_min</th>\n",
       "      <th>bonus_mid</th>\n",
       "      <th>bonus_max</th>\n",
       "    </tr>\n",
       "  </thead>\n",
       "  <tbody>\n",
       "    <tr>\n",
       "      <th>0</th>\n",
       "      <td>서비스업</td>\n",
       "      <td>스타벅스커피코리아</td>\n",
       "      <td>www.istarbucks.co.kr</td>\n",
       "      <td>외식/프랜차이즈</td>\n",
       "      <td>서울특별시 중구</td>\n",
       "      <td>1997</td>\n",
       "      <td>10,000+(명)</td>\n",
       "      <td>2,100만원</td>\n",
       "      <td>3,326만</td>\n",
       "      <td>8,100만원</td>\n",
       "      <td>30만원</td>\n",
       "      <td>400만</td>\n",
       "      <td>2,000만원</td>\n",
       "    </tr>\n",
       "    <tr>\n",
       "      <th>1</th>\n",
       "      <td>서비스업</td>\n",
       "      <td>한국맥도날드</td>\n",
       "      <td>www.mcdonalds.co.kr</td>\n",
       "      <td>외식/프랜차이즈</td>\n",
       "      <td>서울특별시 종로구</td>\n",
       "      <td>1986</td>\n",
       "      <td>1,001~5,000(명)</td>\n",
       "      <td>2,800만원</td>\n",
       "      <td>3,656만</td>\n",
       "      <td>1.3억원</td>\n",
       "      <td>20만원</td>\n",
       "      <td>300만</td>\n",
       "      <td>1,500만원</td>\n",
       "    </tr>\n",
       "    <tr>\n",
       "      <th>2</th>\n",
       "      <td>서비스업</td>\n",
       "      <td>하나투어</td>\n",
       "      <td>www.hanatourcompany.com</td>\n",
       "      <td>여행사/여행서비스업</td>\n",
       "      <td>서울특별시 종로구</td>\n",
       "      <td>1993</td>\n",
       "      <td>1,001~5,000(명)</td>\n",
       "      <td>2,304만원</td>\n",
       "      <td>4,495만</td>\n",
       "      <td>1.0억원</td>\n",
       "      <td>30만원</td>\n",
       "      <td>200만</td>\n",
       "      <td>3,000만원</td>\n",
       "    </tr>\n",
       "    <tr>\n",
       "      <th>3</th>\n",
       "      <td>서비스업</td>\n",
       "      <td>유베이스</td>\n",
       "      <td>www.ubase.co.kr</td>\n",
       "      <td>사업지원/시설관리/임대</td>\n",
       "      <td>서울특별시 용산구</td>\n",
       "      <td>1999</td>\n",
       "      <td>10,000+(명)</td>\n",
       "      <td>2,191만원</td>\n",
       "      <td>3,789만</td>\n",
       "      <td>7,374만원</td>\n",
       "      <td>80만원</td>\n",
       "      <td>300만</td>\n",
       "      <td>540만원</td>\n",
       "    </tr>\n",
       "    <tr>\n",
       "      <th>4</th>\n",
       "      <td>서비스업</td>\n",
       "      <td>트랜스코스모스코리아</td>\n",
       "      <td>www.trans-cosmos.co.kr</td>\n",
       "      <td>고용알선/인력공급업</td>\n",
       "      <td>서울특별시 용산구</td>\n",
       "      <td>2001</td>\n",
       "      <td>5,001~10,000(명)</td>\n",
       "      <td>2,219만원</td>\n",
       "      <td>3,870만</td>\n",
       "      <td>7,312만원</td>\n",
       "      <td>50만원</td>\n",
       "      <td>120만</td>\n",
       "      <td>200만원</td>\n",
       "    </tr>\n",
       "    <tr>\n",
       "      <th>5</th>\n",
       "      <td>서비스업</td>\n",
       "      <td>세스코</td>\n",
       "      <td>www.cesco.co.kr</td>\n",
       "      <td>사업지원/시설관리/임대</td>\n",
       "      <td>서울특별시 강동구</td>\n",
       "      <td>1977</td>\n",
       "      <td>1,001~5,000(명)</td>\n",
       "      <td>2,400만원</td>\n",
       "      <td>3,550만</td>\n",
       "      <td>8,050만원</td>\n",
       "      <td>50만원</td>\n",
       "      <td>450만</td>\n",
       "      <td>1,450만원</td>\n",
       "    </tr>\n",
       "    <tr>\n",
       "      <th>6</th>\n",
       "      <td>서비스업</td>\n",
       "      <td>아워홈</td>\n",
       "      <td>www.ourhome.co.kr</td>\n",
       "      <td>식음료 제조업</td>\n",
       "      <td>서울특별시 강남구</td>\n",
       "      <td>2000</td>\n",
       "      <td>5,001~10,000(명)</td>\n",
       "      <td>2,286만원</td>\n",
       "      <td>4,300만</td>\n",
       "      <td>8,500만원</td>\n",
       "      <td>50만원</td>\n",
       "      <td>300만</td>\n",
       "      <td>1,800만원</td>\n",
       "    </tr>\n",
       "    <tr>\n",
       "      <th>7</th>\n",
       "      <td>서비스업</td>\n",
       "      <td>에스텍시스템</td>\n",
       "      <td>s-tec.co.kr</td>\n",
       "      <td>경비/경호/탐정업</td>\n",
       "      <td>서울특별시 강남구</td>\n",
       "      <td>1999</td>\n",
       "      <td>10,000+(명)</td>\n",
       "      <td>2,184만원</td>\n",
       "      <td>4,120만</td>\n",
       "      <td>7,624만원</td>\n",
       "      <td>100만원</td>\n",
       "      <td>940만</td>\n",
       "      <td>3,000만원</td>\n",
       "    </tr>\n",
       "    <tr>\n",
       "      <th>8</th>\n",
       "      <td>서비스업</td>\n",
       "      <td>스타벅스커피코리아</td>\n",
       "      <td>www.istarbucks.co.kr</td>\n",
       "      <td>외식/프랜차이즈</td>\n",
       "      <td>서울특별시 중구</td>\n",
       "      <td>1997</td>\n",
       "      <td>10,000+(명)</td>\n",
       "      <td>2,100만원</td>\n",
       "      <td>3,326만</td>\n",
       "      <td>8,100만원</td>\n",
       "      <td>30만원</td>\n",
       "      <td>400만</td>\n",
       "      <td>2,000만원</td>\n",
       "    </tr>\n",
       "    <tr>\n",
       "      <th>9</th>\n",
       "      <td>서비스업</td>\n",
       "      <td>한국맥도날드</td>\n",
       "      <td>www.mcdonalds.co.kr</td>\n",
       "      <td>외식/프랜차이즈</td>\n",
       "      <td>서울특별시 종로구</td>\n",
       "      <td>1986</td>\n",
       "      <td>1,001~5,000(명)</td>\n",
       "      <td>2,800만원</td>\n",
       "      <td>3,656만</td>\n",
       "      <td>1.3억원</td>\n",
       "      <td>20만원</td>\n",
       "      <td>300만</td>\n",
       "      <td>1,500만원</td>\n",
       "    </tr>\n",
       "    <tr>\n",
       "      <th>10</th>\n",
       "      <td>서비스업</td>\n",
       "      <td>하나투어</td>\n",
       "      <td>www.hanatourcompany.com</td>\n",
       "      <td>여행사/여행서비스업</td>\n",
       "      <td>서울특별시 종로구</td>\n",
       "      <td>1993</td>\n",
       "      <td>1,001~5,000(명)</td>\n",
       "      <td>2,304만원</td>\n",
       "      <td>4,495만</td>\n",
       "      <td>1.0억원</td>\n",
       "      <td>30만원</td>\n",
       "      <td>200만</td>\n",
       "      <td>3,000만원</td>\n",
       "    </tr>\n",
       "    <tr>\n",
       "      <th>11</th>\n",
       "      <td>서비스업</td>\n",
       "      <td>유베이스</td>\n",
       "      <td>www.ubase.co.kr</td>\n",
       "      <td>사업지원/시설관리/임대</td>\n",
       "      <td>서울특별시 용산구</td>\n",
       "      <td>1999</td>\n",
       "      <td>10,000+(명)</td>\n",
       "      <td>2,191만원</td>\n",
       "      <td>3,789만</td>\n",
       "      <td>7,374만원</td>\n",
       "      <td>80만원</td>\n",
       "      <td>300만</td>\n",
       "      <td>540만원</td>\n",
       "    </tr>\n",
       "    <tr>\n",
       "      <th>12</th>\n",
       "      <td>서비스업</td>\n",
       "      <td>트랜스코스모스코리아</td>\n",
       "      <td>www.trans-cosmos.co.kr</td>\n",
       "      <td>고용알선/인력공급업</td>\n",
       "      <td>서울특별시 용산구</td>\n",
       "      <td>2001</td>\n",
       "      <td>5,001~10,000(명)</td>\n",
       "      <td>2,219만원</td>\n",
       "      <td>3,870만</td>\n",
       "      <td>7,312만원</td>\n",
       "      <td>50만원</td>\n",
       "      <td>120만</td>\n",
       "      <td>200만원</td>\n",
       "    </tr>\n",
       "    <tr>\n",
       "      <th>13</th>\n",
       "      <td>서비스업</td>\n",
       "      <td>세스코</td>\n",
       "      <td>www.cesco.co.kr</td>\n",
       "      <td>사업지원/시설관리/임대</td>\n",
       "      <td>서울특별시 강동구</td>\n",
       "      <td>1977</td>\n",
       "      <td>1,001~5,000(명)</td>\n",
       "      <td>2,400만원</td>\n",
       "      <td>3,550만</td>\n",
       "      <td>8,050만원</td>\n",
       "      <td>50만원</td>\n",
       "      <td>450만</td>\n",
       "      <td>1,450만원</td>\n",
       "    </tr>\n",
       "    <tr>\n",
       "      <th>14</th>\n",
       "      <td>서비스업</td>\n",
       "      <td>아워홈</td>\n",
       "      <td>www.ourhome.co.kr</td>\n",
       "      <td>식음료 제조업</td>\n",
       "      <td>서울특별시 강남구</td>\n",
       "      <td>2000</td>\n",
       "      <td>5,001~10,000(명)</td>\n",
       "      <td>2,286만원</td>\n",
       "      <td>4,300만</td>\n",
       "      <td>8,500만원</td>\n",
       "      <td>50만원</td>\n",
       "      <td>300만</td>\n",
       "      <td>1,800만원</td>\n",
       "    </tr>\n",
       "    <tr>\n",
       "      <th>15</th>\n",
       "      <td>서비스업</td>\n",
       "      <td>에스텍시스템</td>\n",
       "      <td>s-tec.co.kr</td>\n",
       "      <td>경비/경호/탐정업</td>\n",
       "      <td>서울특별시 강남구</td>\n",
       "      <td>1999</td>\n",
       "      <td>10,000+(명)</td>\n",
       "      <td>2,184만원</td>\n",
       "      <td>4,120만</td>\n",
       "      <td>7,624만원</td>\n",
       "      <td>100만원</td>\n",
       "      <td>940만</td>\n",
       "      <td>3,000만원</td>\n",
       "    </tr>\n",
       "  </tbody>\n",
       "</table>\n",
       "</div>"
      ],
      "text/plain": [
       "   category        name                 homepage        upjong        geo  \\\n",
       "0      서비스업   스타벅스커피코리아     www.istarbucks.co.kr      외식/프랜차이즈   서울특별시 중구   \n",
       "1      서비스업      한국맥도날드      www.mcdonalds.co.kr      외식/프랜차이즈  서울특별시 종로구   \n",
       "2      서비스업        하나투어  www.hanatourcompany.com    여행사/여행서비스업  서울특별시 종로구   \n",
       "3      서비스업        유베이스          www.ubase.co.kr  사업지원/시설관리/임대  서울특별시 용산구   \n",
       "4      서비스업  트랜스코스모스코리아   www.trans-cosmos.co.kr    고용알선/인력공급업  서울특별시 용산구   \n",
       "5      서비스업         세스코          www.cesco.co.kr  사업지원/시설관리/임대  서울특별시 강동구   \n",
       "6      서비스업         아워홈        www.ourhome.co.kr       식음료 제조업  서울특별시 강남구   \n",
       "7      서비스업      에스텍시스템              s-tec.co.kr     경비/경호/탐정업  서울특별시 강남구   \n",
       "8      서비스업   스타벅스커피코리아     www.istarbucks.co.kr      외식/프랜차이즈   서울특별시 중구   \n",
       "9      서비스업      한국맥도날드      www.mcdonalds.co.kr      외식/프랜차이즈  서울특별시 종로구   \n",
       "10     서비스업        하나투어  www.hanatourcompany.com    여행사/여행서비스업  서울특별시 종로구   \n",
       "11     서비스업        유베이스          www.ubase.co.kr  사업지원/시설관리/임대  서울특별시 용산구   \n",
       "12     서비스업  트랜스코스모스코리아   www.trans-cosmos.co.kr    고용알선/인력공급업  서울특별시 용산구   \n",
       "13     서비스업         세스코          www.cesco.co.kr  사업지원/시설관리/임대  서울특별시 강동구   \n",
       "14     서비스업         아워홈        www.ourhome.co.kr       식음료 제조업  서울특별시 강남구   \n",
       "15     서비스업      에스텍시스템              s-tec.co.kr     경비/경호/탐정업  서울특별시 강남구   \n",
       "\n",
       "   foundation         employee  sal_min sal_mid  sal_max bonus_min bonus_mid  \\\n",
       "0        1997       10,000+(명)  2,100만원  3,326만  8,100만원      30만원      400만   \n",
       "1        1986   1,001~5,000(명)  2,800만원  3,656만    1.3억원      20만원      300만   \n",
       "2        1993   1,001~5,000(명)  2,304만원  4,495만    1.0억원      30만원      200만   \n",
       "3        1999       10,000+(명)  2,191만원  3,789만  7,374만원      80만원      300만   \n",
       "4        2001  5,001~10,000(명)  2,219만원  3,870만  7,312만원      50만원      120만   \n",
       "5        1977   1,001~5,000(명)  2,400만원  3,550만  8,050만원      50만원      450만   \n",
       "6        2000  5,001~10,000(명)  2,286만원  4,300만  8,500만원      50만원      300만   \n",
       "7        1999       10,000+(명)  2,184만원  4,120만  7,624만원     100만원      940만   \n",
       "8        1997       10,000+(명)  2,100만원  3,326만  8,100만원      30만원      400만   \n",
       "9        1986   1,001~5,000(명)  2,800만원  3,656만    1.3억원      20만원      300만   \n",
       "10       1993   1,001~5,000(명)  2,304만원  4,495만    1.0억원      30만원      200만   \n",
       "11       1999       10,000+(명)  2,191만원  3,789만  7,374만원      80만원      300만   \n",
       "12       2001  5,001~10,000(명)  2,219만원  3,870만  7,312만원      50만원      120만   \n",
       "13       1977   1,001~5,000(명)  2,400만원  3,550만  8,050만원      50만원      450만   \n",
       "14       2000  5,001~10,000(명)  2,286만원  4,300만  8,500만원      50만원      300만   \n",
       "15       1999       10,000+(명)  2,184만원  4,120만  7,624만원     100만원      940만   \n",
       "\n",
       "   bonus_max  \n",
       "0    2,000만원  \n",
       "1    1,500만원  \n",
       "2    3,000만원  \n",
       "3      540만원  \n",
       "4      200만원  \n",
       "5    1,450만원  \n",
       "6    1,800만원  \n",
       "7    3,000만원  \n",
       "8    2,000만원  \n",
       "9    1,500만원  \n",
       "10   3,000만원  \n",
       "11     540만원  \n",
       "12     200만원  \n",
       "13   1,450만원  \n",
       "14   1,800만원  \n",
       "15   3,000만원  "
      ]
     },
     "execution_count": 13,
     "metadata": {},
     "output_type": "execute_result"
    }
   ],
   "source": [
    "comp_score"
   ]
  }
 ],
 "metadata": {
  "kernelspec": {
   "display_name": "Python 3",
   "language": "python",
   "name": "python3"
  },
  "language_info": {
   "codemirror_mode": {
    "name": "ipython",
    "version": 3
   },
   "file_extension": ".py",
   "mimetype": "text/x-python",
   "name": "python",
   "nbconvert_exporter": "python",
   "pygments_lexer": "ipython3",
   "version": "3.8.8"
  }
 },
 "nbformat": 4,
 "nbformat_minor": 5
}
