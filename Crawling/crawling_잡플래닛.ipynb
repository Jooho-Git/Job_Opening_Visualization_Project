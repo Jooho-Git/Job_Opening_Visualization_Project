{
 "cells": [
  {
   "cell_type": "code",
   "execution_count": 1,
   "id": "6e44fe9b",
   "metadata": {},
   "outputs": [],
   "source": [
    "from selenium import webdriver\n",
    "from selenium.webdriver.common.keys import Keys\n",
    "from bs4 import BeautifulSoup\n",
    "from time import sleep\n",
    "import pandas as pd\n",
    "import numpy as np\n",
    "import time"
   ]
  },
  {
   "cell_type": "code",
   "execution_count": 10,
   "id": "1555b428",
   "metadata": {},
   "outputs": [],
   "source": [
    "pd.set_option('display.max_row', 1000)\n",
    "pd.set_option('display.max_columns', 100)"
   ]
  },
  {
   "cell_type": "code",
   "execution_count": 2,
   "id": "947f3d49",
   "metadata": {},
   "outputs": [],
   "source": [
    "df=pd.read_excel(\"C:/Users/xnote/Desktop/crawling/잡플래닛_기업리스트.xlsx\")\n",
    "df.set_index('Unnamed: 0',inplace=True)"
   ]
  },
  {
   "cell_type": "code",
   "execution_count": 3,
   "id": "0bb081c3",
   "metadata": {},
   "outputs": [],
   "source": [
    "# name=[]\n",
    "# for i in range(10):\n",
    "#     name.extend(df.values[:,i].tolist())\n",
    "# name"
   ]
  },
  {
   "cell_type": "code",
   "execution_count": 22,
   "id": "83491138",
   "metadata": {},
   "outputs": [
    {
     "data": {
      "text/html": [
       "<div>\n",
       "<style scoped>\n",
       "    .dataframe tbody tr th:only-of-type {\n",
       "        vertical-align: middle;\n",
       "    }\n",
       "\n",
       "    .dataframe tbody tr th {\n",
       "        vertical-align: top;\n",
       "    }\n",
       "\n",
       "    .dataframe thead th {\n",
       "        text-align: right;\n",
       "    }\n",
       "</style>\n",
       "<table border=\"1\" class=\"dataframe\">\n",
       "  <thead>\n",
       "    <tr style=\"text-align: right;\">\n",
       "      <th></th>\n",
       "      <th>회사명</th>\n",
       "      <th>링크</th>\n",
       "    </tr>\n",
       "  </thead>\n",
       "  <tbody>\n",
       "  </tbody>\n",
       "</table>\n",
       "</div>"
      ],
      "text/plain": [
       "Empty DataFrame\n",
       "Columns: [회사명, 링크]\n",
       "Index: []"
      ]
     },
     "execution_count": 22,
     "metadata": {},
     "output_type": "execute_result"
    }
   ],
   "source": [
    "url_df = pd.DataFrame(columns = ['회사명', '링크'])\n",
    "url_df"
   ]
  },
  {
   "cell_type": "code",
   "execution_count": 23,
   "id": "20e0c7ba",
   "metadata": {},
   "outputs": [],
   "source": [
    "def get_page(number):\n",
    "    # 공고 수가 21의 배수인 경우와 아닌 경우의 page 수\n",
    "    if number % 21 != 0:\n",
    "        pages = number // 21 + 1\n",
    "    else:\n",
    "        pages = number // 21\n",
    "    \n",
    "    # 페이지가 10 초과인 경우, 페이지 10으로 맞추기\n",
    "    if pages >= 10: \n",
    "        pages=10\n",
    "    else: pass\n",
    "    \n",
    "    p_list = [i+1 for i in range(pages)]\n",
    "    \n",
    "    return p_list"
   ]
  },
  {
   "cell_type": "code",
   "execution_count": null,
   "id": "bfbd5a28",
   "metadata": {},
   "outputs": [],
   "source": [
    "import re\n",
    "import requests\n",
    "import urllib.parse\n",
    "from bs4 import BeautifulSoup\n",
    "\n",
    "data = pd.read_excel(\"C:/Users/xnote/Desktop/crawling/기업명_기업번호.xlsx\")\n",
    "name_list = list(data['기업명'])\n",
    "number_list = list(data['기업번호'])\n",
    "\n",
    "for name, num in zip(name_list, number_list):\n",
    "        baseurl = f'https://www.jobplanet.co.kr/companies/{num}/job_postings?occupation_id=&occupation_level2_id=&recruitment_type_id=&city_id=&show_ended=true&order_by=recent&page=1'\n",
    "        response = requests.get(baseurl)\n",
    "        html = BeautifulSoup(response.text, 'html.parser')\n",
    "        number = html.select_one('#filter_form > div.comp_job_filter > div > div > p > strong').text\n",
    "        number = int(re.sub(r'[^a-zA-Z0-9]','',number))\n",
    "        if number != 0:\n",
    "            p_list = get_page(number)\n",
    "            \n",
    "            for page in p_list:\n",
    "                baseurl = f'https://www.jobplanet.co.kr/companies/{num}/job_postings?occupation_id=&occupation_level2_id=&recruitment_type_id=&city_id=&show_ended=true&order_by=recent&page={page}'\n",
    "                response = requests.get(baseurl)\n",
    "                html = BeautifulSoup(response.text, 'html.parser')\n",
    "                tags = html.select('div.job_bd_in > div.items.job_items > div > a')\n",
    "                for tag in tags:\n",
    "                    print(name)\n",
    "                    link=\"https://www.jobplanet.co.kr\" + tag.attrs['href']\n",
    "                    print(link)\n",
    "                    url_df.loc[len(url_df)] = [name, link]\n",
    "        else: pass"
   ]
  },
  {
   "cell_type": "code",
   "execution_count": 26,
   "id": "fb941d60",
   "metadata": {},
   "outputs": [],
   "source": [
    "url_df.to_excel('C:/Users/xnote/Desktop/잡플래닛_공고url.xlsx',index=False)"
   ]
  },
  {
   "cell_type": "code",
   "execution_count": 104,
   "id": "e0a0bbb2",
   "metadata": {},
   "outputs": [
    {
     "data": {
      "text/html": [
       "<div>\n",
       "<style scoped>\n",
       "    .dataframe tbody tr th:only-of-type {\n",
       "        vertical-align: middle;\n",
       "    }\n",
       "\n",
       "    .dataframe tbody tr th {\n",
       "        vertical-align: top;\n",
       "    }\n",
       "\n",
       "    .dataframe thead th {\n",
       "        text-align: right;\n",
       "    }\n",
       "</style>\n",
       "<table border=\"1\" class=\"dataframe\">\n",
       "  <thead>\n",
       "    <tr style=\"text-align: right;\">\n",
       "      <th></th>\n",
       "      <th>산업</th>\n",
       "      <th>기업형태</th>\n",
       "      <th>사원수</th>\n",
       "      <th>설립</th>\n",
       "      <th>대표</th>\n",
       "      <th>매출</th>\n",
       "      <th>주소</th>\n",
       "      <th>웹사이트</th>\n",
       "      <th>연혁</th>\n",
       "      <th>소개</th>\n",
       "    </tr>\n",
       "  </thead>\n",
       "  <tbody>\n",
       "  </tbody>\n",
       "</table>\n",
       "</div>"
      ],
      "text/plain": [
       "Empty DataFrame\n",
       "Columns: [산업, 기업형태, 사원수, 설립, 대표, 매출, 주소, 웹사이트, 연혁, 소개]\n",
       "Index: []"
      ]
     },
     "execution_count": 104,
     "metadata": {},
     "output_type": "execute_result"
    }
   ],
   "source": [
    "company_info = {\n",
    "    '산업' : [],\n",
    "    '기업형태' : [],\n",
    "    '사원수' : [],\n",
    "    '설립' : [],\n",
    "    '대표' : [],\n",
    "    '매출' : [],\n",
    "    '주소' : [],\n",
    "    '웹사이트' : [],\n",
    "    '연혁' : [],\n",
    "    '소개' : []\n",
    "}\n",
    "company_info = pd.DataFrame(company_info)\n",
    "company_info"
   ]
  },
  {
   "cell_type": "code",
   "execution_count": null,
   "id": "0328e801",
   "metadata": {},
   "outputs": [],
   "source": [
    "import re\n",
    "import requests\n",
    "import urllib.parse\n",
    "from bs4 import BeautifulSoup\n",
    "i=-1\n",
    "for url in urls:\n",
    "    data = []\n",
    "    i+=1\n",
    "    response = requests.get(url)\n",
    "    html = BeautifulSoup(response.text, 'html.parser')\n",
    "    try:\n",
    "        data.append(html.select_one('#contents_wrap > div > div:nth-child(1) > div > div > div.basic_info_sec > div > ul.basic_info_list > li:nth-child(1) > div > div > strong').text)\n",
    "        data.append(html.select_one('#contents_wrap > div > div:nth-child(1) > div > div > div.basic_info_sec > div > ul.basic_info_list > li:nth-child(2) > div > div > strong').text)\n",
    "        data.append(html.select_one('#contents_wrap > div > div:nth-child(1) > div > div > div.basic_info_sec > div > ul.basic_info_list > li:nth-child(3) > div > div > strong').text)\n",
    "        data.append(html.select_one('#contents_wrap > div > div:nth-child(1) > div > div > div.basic_info_sec > div > ul.basic_info_list > li:nth-child(4) > div > div > strong').text)\n",
    "        data.append(html.select_one('#contents_wrap > div > div:nth-child(1) > div > div > div.basic_info_sec > div > ul.basic_info_more > li:nth-child(1) > dl > dd').text)\n",
    "        data.append(html.select_one('#contents_wrap > div > div:nth-child(1) > div > div > div.basic_info_sec > div > ul.basic_info_more > li:nth-child(2) > dl > dd').text)\n",
    "        data.append(html.select_one('#contents_wrap > div > div:nth-child(1) > div > div > div.basic_info_sec > div > ul.basic_info_more > li:nth-child(3) > dl > dd').text)\n",
    "        data.append(html.select_one('#contents_wrap > div > div:nth-child(1) > div > div > div.basic_info_sec > div > ul.basic_info_more > li:nth-child(4) > dl > dd').text)\n",
    "        data.append(html.select_one('#contents_wrap > div > div:nth-child(1) > div > div > div.basic_info_sec > div > ul.basic_info_more > li:nth-child(5) > dl > dd').text.replace('\\n',' '))\n",
    "        data.append(html.select_one('#contents_wrap > div > div:nth-child(1) > div > div > div.basic_info_sec > div > ul.basic_info_more > li:nth-child(6) > dl > dd').text.replace('\\n',' '))\n",
    "    except:\n",
    "        try:\n",
    "            data.append(html.select_one('#contents_wrap > div > div:nth-child(3) > div > div > div.basic_info_sec > div > ul.basic_info_list > li:nth-child(1) > div > div > strong').text)\n",
    "            data.append(html.select_one('#contents_wrap > div > div:nth-child(3) > div > div > div.basic_info_sec > div > ul.basic_info_list > li:nth-child(2) > div > div > strong').text)\n",
    "            data.append(html.select_one('#contents_wrap > div > div:nth-child(3) > div > div > div.basic_info_sec > div > ul.basic_info_list > li:nth-child(3) > div > div > strong').text)\n",
    "            data.append(html.select_one('#contents_wrap > div > div:nth-child(3) > div > div > div.basic_info_sec > div > ul.basic_info_list > li:nth-child(4) > div > div > strong').text)\n",
    "            data.append(html.select_one('#contents_wrap > div > div:nth-child(3) > div > div > div.basic_info_sec > div > ul.basic_info_more > li:nth-child(1) > dl > dd').text)\n",
    "            data.append(html.select_one('#contents_wrap > div > div:nth-child(3) > div > div > div.basic_info_sec > div > ul.basic_info_more > li:nth-child(2) > dl > dd').text)\n",
    "            data.append(html.select_one('#contents_wrap > div > div:nth-child(3) > div > div > div.basic_info_sec > div > ul.basic_info_more > li:nth-child(3) > dl > dd').text)\n",
    "            data.append(html.select_one('#contents_wrap > div > div:nth-child(3) > div > div > div.basic_info_sec > div > ul.basic_info_more > li:nth-child(4) > dl > dd').text)\n",
    "            data.append(html.select_one('#contents_wrap > div > div:nth-child(3) > div > div > div.basic_info_sec > div > ul.basic_info_more > li:nth-child(5) > dl > dd').text.replace('\\n',' '))\n",
    "            data.append(html.select_one('#contents_wrap > div > div:nth-child(3) > div > div > div.basic_info_sec > div > ul.basic_info_more > li:nth-child(6) > dl > dd').text.replace('\\n',' '))\n",
    "        except:\n",
    "            try:\n",
    "                data.append(html.select_one('#contents_wrap > div > div:nth-child(2) > div > div > div.basic_info_sec > div > ul.basic_info_list > li:nth-child(1) > div > div > strong').text)\n",
    "                data.append(html.select_one('#contents_wrap > div > div:nth-child(2) > div > div > div.basic_info_sec > div > ul.basic_info_list > li:nth-child(2) > div > div > strong').text)\n",
    "                data.append(html.select_one('#contents_wrap > div > div:nth-child(2) > div > div > div.basic_info_sec > div > ul.basic_info_list > li:nth-child(3) > div > div > strong').text)\n",
    "                data.append(html.select_one('#contents_wrap > div > div:nth-child(2) > div > div > div.basic_info_sec > div > ul.basic_info_list > li:nth-child(4) > div > div > strong').text)\n",
    "                data.append(html.select_one('#contents_wrap > div > div:nth-child(2) > div > div > div.basic_info_sec > div > ul.basic_info_more > li:nth-child(1) > dl > dd').text)\n",
    "                data.append(html.select_one('#contents_wrap > div > div:nth-child(2) > div > div > div.basic_info_sec > div > ul.basic_info_more > li:nth-child(2) > dl > dd').text)\n",
    "                data.append(html.select_one('#contents_wrap > div > div:nth-child(2) > div > div > div.basic_info_sec > div > ul.basic_info_more > li:nth-child(3) > dl > dd').text)\n",
    "                data.append(html.select_one('#contents_wrap > div > div:nth-child(2) > div > div > div.basic_info_sec > div > ul.basic_info_more > li:nth-child(4) > dl > dd').text)\n",
    "                data.append(html.select_one('#contents_wrap > div > div:nth-child(2) > div > div > div.basic_info_sec > div > ul.basic_info_more > li:nth-child(5) > dl > dd').text.replace('\\n',' '))\n",
    "                data.append(html.select_one('#contents_wrap > div > div:nth-child(2) > div > div > div.basic_info_sec > div > ul.basic_info_more > li:nth-child(6) > dl > dd').text.replace('\\n',' '))\n",
    "            except:\n",
    "                for _ in range(10): data.append('error')\n",
    "    company_info.loc[len(company_info)] = data\n",
    "    print(i)"
   ]
  },
  {
   "cell_type": "code",
   "execution_count": 108,
   "id": "9591a474",
   "metadata": {},
   "outputs": [],
   "source": [
    "pd.set_option('display.max_row', 1000)\n",
    "pd.set_option('display.max_columns', 100)"
   ]
  },
  {
   "cell_type": "code",
   "execution_count": 112,
   "id": "e7d78064",
   "metadata": {
    "scrolled": true
   },
   "outputs": [
    {
     "data": {
      "text/plain": [
       "Int64Index([277, 370, 388, 400, 401, 402, 403, 414, 415, 426, 430, 494, 600,\n",
       "            630, 632, 634, 640, 663, 744],\n",
       "           dtype='int64')"
      ]
     },
     "execution_count": 112,
     "metadata": {},
     "output_type": "execute_result"
    }
   ],
   "source": [
    "a=company_info[company_info['산업']=='error'].index"
   ]
  },
  {
   "cell_type": "code",
   "execution_count": 118,
   "id": "c96667ee",
   "metadata": {
    "scrolled": true
   },
   "outputs": [
    {
     "name": "stdout",
     "output_type": "stream",
     "text": [
      "1 https://www.jobplanet.co.kr/companies/88428/landing\n",
      "2 https://www.jobplanet.co.kr/companies/93077/landing\n",
      "3 https://www.jobplanet.co.kr/companies/63863/landing\n",
      "4 https://www.jobplanet.co.kr/companies/87523/landing\n",
      "5 https://www.jobplanet.co.kr/companies/86740/landing\n",
      "6 https://www.jobplanet.co.kr/companies/88435/landing\n",
      "7 https://www.jobplanet.co.kr/companies/66387/landing\n",
      "8 https://www.jobplanet.co.kr/companies/86976/landing\n",
      "9 https://www.jobplanet.co.kr/companies/238249/landing\n",
      "10 https://www.jobplanet.co.kr/companies/93859/landing\n",
      "11 https://www.jobplanet.co.kr/companies/309654/landing\n",
      "12 https://www.jobplanet.co.kr/companies/156293/landing\n",
      "13 https://www.jobplanet.co.kr/companies/87444/landing\n",
      "14 https://www.jobplanet.co.kr/companies/88463/landing\n",
      "15 https://www.jobplanet.co.kr/companies/52955/landing\n",
      "16 https://www.jobplanet.co.kr/companies/61420/landing\n",
      "17 https://www.jobplanet.co.kr/companies/86877/landing\n",
      "18 https://www.jobplanet.co.kr/companies/96821/landing\n",
      "19 https://www.jobplanet.co.kr/companies/89852/landing\n"
     ]
    }
   ],
   "source": [
    "for i,b in enumerate([277, 370, 388, 400, 401, 402, 403, 414, 415, 426, 430, 494, 600, 630, 632, 634, 640, 663, 744]):\n",
    "    print(i+1,urls[b])"
   ]
  },
  {
   "cell_type": "code",
   "execution_count": null,
   "id": "bd4998cb",
   "metadata": {},
   "outputs": [],
   "source": [
    "company_info_copy.insert(0,'회사명',name)"
   ]
  },
  {
   "cell_type": "code",
   "execution_count": 152,
   "id": "91371b8f",
   "metadata": {},
   "outputs": [],
   "source": [
    "company_info_copy.to_excel('C:/Users/xnote/Desktop/company_info.xlsx',index=False)"
   ]
  },
  {
   "cell_type": "markdown",
   "id": "9f778ea9",
   "metadata": {},
   "source": [
    "## 리뷰"
   ]
  },
  {
   "cell_type": "code",
   "execution_count": null,
   "id": "dfe34278",
   "metadata": {},
   "outputs": [],
   "source": [
    "review_urls=[]\n",
    "for url in urls:\n",
    "    review_url=url.split('/')\n",
    "    review_url.remove('landing')\n",
    "    review_url.append('reviews')\n",
    "    review_urls.append('/'.join(review_url))"
   ]
  },
  {
   "cell_type": "code",
   "execution_count": 185,
   "id": "7c192fb5",
   "metadata": {
    "scrolled": true
   },
   "outputs": [
    {
     "data": {
      "text/html": [
       "<div>\n",
       "<style scoped>\n",
       "    .dataframe tbody tr th:only-of-type {\n",
       "        vertical-align: middle;\n",
       "    }\n",
       "\n",
       "    .dataframe tbody tr th {\n",
       "        vertical-align: top;\n",
       "    }\n",
       "\n",
       "    .dataframe thead th {\n",
       "        text-align: right;\n",
       "    }\n",
       "</style>\n",
       "<table border=\"1\" class=\"dataframe\">\n",
       "  <thead>\n",
       "    <tr style=\"text-align: right;\">\n",
       "      <th></th>\n",
       "      <th>연봉</th>\n",
       "      <th>워라밸</th>\n",
       "      <th>커리어</th>\n",
       "      <th>조직문화</th>\n",
       "      <th>리뷰수</th>\n",
       "    </tr>\n",
       "  </thead>\n",
       "  <tbody>\n",
       "  </tbody>\n",
       "</table>\n",
       "</div>"
      ],
      "text/plain": [
       "Empty DataFrame\n",
       "Columns: [연봉, 워라밸, 커리어, 조직문화, 리뷰수]\n",
       "Index: []"
      ]
     },
     "execution_count": 185,
     "metadata": {},
     "output_type": "execute_result"
    }
   ],
   "source": [
    "company_review = {\n",
    "    '연봉' : [],\n",
    "    '워라밸' : [],\n",
    "    '커리어' : [],\n",
    "    '조직문화' : [],\n",
    "    '리뷰수' : []\n",
    "}\n",
    "company_review = pd.DataFrame(company_review)\n",
    "company_review"
   ]
  },
  {
   "cell_type": "code",
   "execution_count": null,
   "id": "1c2b1016",
   "metadata": {},
   "outputs": [],
   "source": [
    "from selenium import webdriver\n",
    "from selenium.webdriver.common.keys import Keys\n",
    "import time\n",
    "import pandas as pd\n",
    "from tqdm import tqdm\n",
    "\n",
    "data = pd.read_excel(\"C:/Users/xnote/Desktop/기업명_기업번호.xlsx\")\n",
    "number_list = list(data['기업번호'])\n",
    "\n",
    "link_list = []\n",
    "for company_no in tqdm(number_list):\n",
    "    link_list.append(\"https://www.jobplanet.co.kr/companies/\"+str(company_no)+\"/reviews\")\n",
    "    \n",
    "#로그인\n",
    "usr = \"ltnals9810@soongsil.ac.kr\"\n",
    "pwd = \"fkvlfkvl5566!!\"\n",
    "\n",
    "# options = webdriver.ChromeOptions()\n",
    "# options.add_argument('headless')\n",
    "\n",
    "driver = webdriver.Chrome('C:/Program Files (x86)/Google/Chrome/Application/chromedriver')\n",
    "\n",
    "driver.get(\"https://www.jobplanet.co.kr/users/sign_in?_nav=gb\")\n",
    "time.sleep(2)\n",
    "\n",
    "login_id = driver.find_element_by_css_selector(\"input#user_email\")\n",
    "login_id.send_keys(usr)\n",
    "\n",
    "login_pwd = driver.find_element_by_css_selector(\"input#user_password\")\n",
    "login_pwd.send_keys(pwd)\n",
    "\n",
    "driver.find_element_by_css_selector(\"button.btn_sign_up\").click()\n",
    "time.sleep(2)\n",
    "\n",
    "\n",
    "for i, link in enumerate(link_list):\n",
    "    driver.get(link)\n",
    "    time.sleep(0.5)\n",
    "    data_list=[]\n",
    "    try:\n",
    "        data_list.append(driver.find_element_by_xpath('//*[@id=\"premiumReviewStatistics\"]/div[2]/div[1]/div/div[3]/div[2]/div[1]/div/div[2]/span[2]\n",
    "                                                      '//*[@id=\"premiumReviewStatistics\"]/div[2]/div[1]/div/div[3]/div[2]/div[2]/div/div[2]/span[2]\n",
    "        data_list.append(driver.find_element_by_xpath('//*[@id=\"premiumReviewStatistics\"]/div/div/div/div[2]/div[2]/div[1]/div/div[2]/span[2]').text)\n",
    "        data_list.append(driver.find_element_by_xpath('//*[@id=\"premiumReviewStatistics\"]/div/div/div/div[2]/div[2]/div[2]/div/div[2]/span[2]').text)\n",
    "        data_list.append(driver.find_element_by_xpath('//*[@id=\"premiumReviewStatistics\"]/div/div/div/div[2]/div[2]/div[4]/div/div[2]/span[2]').text)\n",
    "        data_list.append(driver.find_element_by_xpath('//*[@id=\"premiumReviewStatistics\"]/div/div/div/div[2]/div[2]/div[3]/div/div[2]/span[2]').text)\n",
    "        data_list.append(driver.find_element_by_xpath('//*[@id=\"viewCompaniesMenu\"]/ul/li[3]/a/span').text)\n",
    "        company_review.loc[len(company_review)] = data_list\n",
    "        print(i)\n",
    "    except:\n",
    "        for _ in range(5): \n",
    "            data_list.append('error')\n",
    "        company_review.loc[len(company_review)] = data_list\n",
    "        print(i)"
   ]
  },
  {
   "cell_type": "code",
   "execution_count": 193,
   "id": "d7f4e1f5",
   "metadata": {
    "scrolled": true
   },
   "outputs": [],
   "source": [
    "company_review_copy=company_review.copy()"
   ]
  },
  {
   "cell_type": "code",
   "execution_count": 195,
   "id": "3a2a7b4e",
   "metadata": {},
   "outputs": [
    {
     "name": "stderr",
     "output_type": "stream",
     "text": [
      "100%|██████████████████████████████████████████████████████████████████████████| 1000/1000 [00:00<00:00, 964207.82it/s]\n"
     ]
    },
    {
     "name": "stdout",
     "output_type": "stream",
     "text": [
      "97\n",
      "714\n",
      "743\n",
      "766\n"
     ]
    }
   ],
   "source": [
    "data = pd.read_excel(\"C:/Users/xnote/Desktop/기업명_기업번호.xlsx\")\n",
    "number_list = list(data['기업번호'])\n",
    "\n",
    "link_list = []\n",
    "for company_no in tqdm(number_list):\n",
    "    link_list.append(\"https://www.jobplanet.co.kr/companies/\"+str(company_no)+\"/reviews\")\n",
    "    \n",
    "#로그인\n",
    "usr = \"ltnals9810@soongsil.ac.kr\"\n",
    "pwd = \"fkvlfkvl5566!!\"\n",
    "\n",
    "# options = webdriver.ChromeOptions()\n",
    "# options.add_argument('headless')\n",
    "\n",
    "driver = webdriver.Chrome('C:/Program Files (x86)/Google/Chrome/Application/chromedriver')\n",
    "\n",
    "driver.get(\"https://www.jobplanet.co.kr/users/sign_in?_nav=gb\")\n",
    "time.sleep(2)\n",
    "\n",
    "login_id = driver.find_element_by_css_selector(\"input#user_email\")\n",
    "login_id.send_keys(usr)\n",
    "\n",
    "login_pwd = driver.find_element_by_css_selector(\"input#user_password\")\n",
    "login_pwd.send_keys(pwd)\n",
    "\n",
    "driver.find_element_by_css_selector(\"button.btn_sign_up\").click()\n",
    "time.sleep(2)\n",
    "\n",
    "\n",
    "for i in [97, 714, 743, 766]:\n",
    "    driver.get(link_list[i])\n",
    "    time.sleep(0.5)\n",
    "    data_list=[]\n",
    "    data_list.append(driver.find_element_by_xpath('//*[@id=\"premiumReviewStatistics\"]/div[2]/div[1]/div/div[3]/div[2]/div[1]/div/div[2]/span[2]').text)\n",
    "    data_list.append(driver.find_element_by_xpath('//*[@id=\"premiumReviewStatistics\"]/div[2]/div[1]/div/div[3]/div[2]/div[2]/div/div[2]/span[2]').text)\n",
    "    data_list.append(driver.find_element_by_xpath('//*[@id=\"premiumReviewStatistics\"]/div[2]/div[1]/div/div[3]/div[2]/div[4]/div/div[2]/span[2]').text)\n",
    "    data_list.append(driver.find_element_by_xpath('//*[@id=\"premiumReviewStatistics\"]/div[2]/div[1]/div/div[3]/div[2]/div[3]/div/div[2]/span[2]').text)\n",
    "    data_list.append(driver.find_element_by_xpath('//*[@id=\"viewCompaniesMenu\"]/ul/li[3]/a/span').text)\n",
    "    company_review_copy.iloc[i] = data_list\n",
    "    print(i)"
   ]
  },
  {
   "cell_type": "code",
   "execution_count": 197,
   "id": "698d1771",
   "metadata": {},
   "outputs": [
    {
     "data": {
      "text/plain": [
       "Int64Index([], dtype='int64')"
      ]
     },
     "execution_count": 197,
     "metadata": {},
     "output_type": "execute_result"
    }
   ],
   "source": [
    "company_review_copy[company_review_copy['연봉']=='error'].index"
   ]
  },
  {
   "cell_type": "code",
   "execution_count": 198,
   "id": "107944e3",
   "metadata": {},
   "outputs": [
    {
     "data": {
      "text/html": [
       "<div>\n",
       "<style scoped>\n",
       "    .dataframe tbody tr th:only-of-type {\n",
       "        vertical-align: middle;\n",
       "    }\n",
       "\n",
       "    .dataframe tbody tr th {\n",
       "        vertical-align: top;\n",
       "    }\n",
       "\n",
       "    .dataframe thead th {\n",
       "        text-align: right;\n",
       "    }\n",
       "</style>\n",
       "<table border=\"1\" class=\"dataframe\">\n",
       "  <thead>\n",
       "    <tr style=\"text-align: right;\">\n",
       "      <th></th>\n",
       "      <th>연봉</th>\n",
       "      <th>워라밸</th>\n",
       "      <th>커리어</th>\n",
       "      <th>조직문화</th>\n",
       "      <th>리뷰수</th>\n",
       "    </tr>\n",
       "  </thead>\n",
       "  <tbody>\n",
       "    <tr>\n",
       "      <th>97</th>\n",
       "      <td>3.2</td>\n",
       "      <td>3.4</td>\n",
       "      <td>2.4</td>\n",
       "      <td>3.0</td>\n",
       "      <td>185</td>\n",
       "    </tr>\n",
       "    <tr>\n",
       "      <th>714</th>\n",
       "      <td>2.3</td>\n",
       "      <td>2.9</td>\n",
       "      <td>2.5</td>\n",
       "      <td>2.6</td>\n",
       "      <td>485</td>\n",
       "    </tr>\n",
       "    <tr>\n",
       "      <th>743</th>\n",
       "      <td>2.5</td>\n",
       "      <td>2.9</td>\n",
       "      <td>3.0</td>\n",
       "      <td>3.2</td>\n",
       "      <td>256</td>\n",
       "    </tr>\n",
       "    <tr>\n",
       "      <th>766</th>\n",
       "      <td>1.9</td>\n",
       "      <td>1.8</td>\n",
       "      <td>2.8</td>\n",
       "      <td>2.2</td>\n",
       "      <td>185</td>\n",
       "    </tr>\n",
       "  </tbody>\n",
       "</table>\n",
       "</div>"
      ],
      "text/plain": [
       "      연봉  워라밸  커리어 조직문화  리뷰수\n",
       "97   3.2  3.4  2.4  3.0  185\n",
       "714  2.3  2.9  2.5  2.6  485\n",
       "743  2.5  2.9  3.0  3.2  256\n",
       "766  1.9  1.8  2.8  2.2  185"
      ]
     },
     "execution_count": 198,
     "metadata": {},
     "output_type": "execute_result"
    }
   ],
   "source": [
    "company_review_copy.iloc[[97, 714, 743, 766]]"
   ]
  },
  {
   "cell_type": "code",
   "execution_count": 177,
   "id": "db7feae7",
   "metadata": {},
   "outputs": [],
   "source": [
    "name=[]\n",
    "for i in range(10):\n",
    "    name.extend(df.values[:,i].tolist())"
   ]
  },
  {
   "cell_type": "code",
   "execution_count": 199,
   "id": "87b3eaf2",
   "metadata": {},
   "outputs": [],
   "source": [
    "company_review_copy.insert(0,'회사명',name)"
   ]
  },
  {
   "cell_type": "code",
   "execution_count": 203,
   "id": "702aaa23",
   "metadata": {},
   "outputs": [],
   "source": [
    "company_review_copy.to_excel('C:/Users/xnote/Desktop/company_review.xlsx',index=False)"
   ]
  }
 ],
 "metadata": {
  "kernelspec": {
   "display_name": "Python 3",
   "language": "python",
   "name": "python3"
  },
  "language_info": {
   "codemirror_mode": {
    "name": "ipython",
    "version": 3
   },
   "file_extension": ".py",
   "mimetype": "text/x-python",
   "name": "python",
   "nbconvert_exporter": "python",
   "pygments_lexer": "ipython3",
   "version": "3.8.8"
  }
 },
 "nbformat": 4,
 "nbformat_minor": 5
}
