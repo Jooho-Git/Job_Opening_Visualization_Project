{
 "cells": [
  {
   "cell_type": "code",
   "execution_count": 1,
   "id": "d33a530e",
   "metadata": {},
   "outputs": [],
   "source": [
    "from selenium import webdriver\n",
    "from selenium.webdriver.common.keys import Keys\n",
    "from bs4 import BeautifulSoup\n",
    "from time import sleep\n",
    "import pandas as pd\n",
    "import numpy as np\n",
    "import time"
   ]
  },
  {
   "cell_type": "code",
   "execution_count": 13,
   "id": "90713978",
   "metadata": {},
   "outputs": [],
   "source": [
    "df=pd.read_excel(\"C:/Users/xnote/Desktop/crawling/잡플래닛_기업리스트.xlsx\")\n",
    "df.set_index('Unnamed: 0',inplace=True)"
   ]
  },
  {
   "cell_type": "code",
   "execution_count": 132,
   "id": "4ff9c0ef",
   "metadata": {},
   "outputs": [],
   "source": [
    "import re\n",
    "\n",
    "name0=[]\n",
    "for i in range(10):\n",
    "    name0.extend(df.values[:,i].tolist())\n",
    "name=[]\n",
    "for n in name0:\n",
    "    nn=n.replace(' (매장)','')\n",
    "    nn=re.compile(r'[^가-힣]+').sub(\" \",nn)\n",
    "    nn=nn.replace(' 주 ','')\n",
    "    nn=nn.replace(' 유 ','')\n",
    "    nn=nn.replace(' 재 ','')\n",
    "    name.append(nn)"
   ]
  },
  {
   "cell_type": "code",
   "execution_count": 144,
   "id": "ee6fbef6",
   "metadata": {},
   "outputs": [
    {
     "data": {
      "text/html": [
       "<div>\n",
       "<style scoped>\n",
       "    .dataframe tbody tr th:only-of-type {\n",
       "        vertical-align: middle;\n",
       "    }\n",
       "\n",
       "    .dataframe tbody tr th {\n",
       "        vertical-align: top;\n",
       "    }\n",
       "\n",
       "    .dataframe thead th {\n",
       "        text-align: right;\n",
       "    }\n",
       "</style>\n",
       "<table border=\"1\" class=\"dataframe\">\n",
       "  <thead>\n",
       "    <tr style=\"text-align: right;\">\n",
       "      <th></th>\n",
       "      <th>회사명</th>\n",
       "      <th>링크</th>\n",
       "    </tr>\n",
       "  </thead>\n",
       "  <tbody>\n",
       "  </tbody>\n",
       "</table>\n",
       "</div>"
      ],
      "text/plain": [
       "Empty DataFrame\n",
       "Columns: [회사명, 링크]\n",
       "Index: []"
      ]
     },
     "execution_count": 144,
     "metadata": {},
     "output_type": "execute_result"
    }
   ],
   "source": [
    "url_df = {\n",
    "    '회사명' : [],\n",
    "    '링크' : []\n",
    "}\n",
    "url_df = pd.DataFrame(url_df)\n",
    "url_df"
   ]
  },
  {
   "cell_type": "code",
   "execution_count": null,
   "id": "3b9e4e47",
   "metadata": {},
   "outputs": [],
   "source": [
    "import requests\n",
    "import urllib.parse\n",
    "from bs4 import BeautifulSoup\n",
    "\n",
    "urls=[]\n",
    "for col in name:\n",
    "        baseurl = 'https://www.saramin.co.kr/zf_user/company-search?page=1&searchWord='+urllib.parse.quote_plus(col)+'&revenue=&salary=&employees=&operatingRevenue=&startingSalary=&establishment=&netRevenue='\n",
    "        response = requests.get(baseurl)\n",
    "        html = BeautifulSoup(response.text, 'html.parser')\n",
    "        try:\n",
    "            tag = html.find('div','area_info').find('a')\n",
    "            salary_tag = tag.attrs['href'].replace('view','view-inner-salary')\n",
    "            url_df.loc[len(url_df)] = [col,'https://www.saramin.co.kr'+salary_tag]\n",
    "            print(col,'\\n','https://www.saramin.co.kr'+salary_tag)\n",
    "        except:\n",
    "            url_df.loc[len(url_df)] = [col,'']"
   ]
  },
  {
   "cell_type": "code",
   "execution_count": 147,
   "id": "0ebb77d1",
   "metadata": {},
   "outputs": [],
   "source": [
    "url_df['회사명']=name0"
   ]
  },
  {
   "cell_type": "code",
   "execution_count": 157,
   "id": "044be00d",
   "metadata": {},
   "outputs": [
    {
     "data": {
      "text/html": [
       "<div>\n",
       "<style scoped>\n",
       "    .dataframe tbody tr th:only-of-type {\n",
       "        vertical-align: middle;\n",
       "    }\n",
       "\n",
       "    .dataframe tbody tr th {\n",
       "        vertical-align: top;\n",
       "    }\n",
       "\n",
       "    .dataframe thead th {\n",
       "        text-align: right;\n",
       "    }\n",
       "</style>\n",
       "<table border=\"1\" class=\"dataframe\">\n",
       "  <thead>\n",
       "    <tr style=\"text-align: right;\">\n",
       "      <th></th>\n",
       "      <th>회사명</th>\n",
       "      <th>평균연봉</th>\n",
       "    </tr>\n",
       "  </thead>\n",
       "  <tbody>\n",
       "  </tbody>\n",
       "</table>\n",
       "</div>"
      ],
      "text/plain": [
       "Empty DataFrame\n",
       "Columns: [회사명, 평균연봉]\n",
       "Index: []"
      ]
     },
     "execution_count": 157,
     "metadata": {},
     "output_type": "execute_result"
    }
   ],
   "source": [
    "company_salary = {\n",
    "    '회사명' : [],\n",
    "    '평균연봉' : []\n",
    "}\n",
    "company_salary = pd.DataFrame(company_salary)\n",
    "company_salary"
   ]
  },
  {
   "cell_type": "code",
   "execution_count": 158,
   "id": "20e824c8",
   "metadata": {},
   "outputs": [],
   "source": [
    "def crawl(name):\n",
    "    data_list=[name]\n",
    "    try:\n",
    "        # 연봉 가져오기\n",
    "        data_list.append(driver.find_element_by_css_selector('#tab_avg_salary > div > div.wrap_average > div.salaryinfo > p > em').text)\n",
    "    except:\n",
    "        data_list.append('')\n",
    "    company_salary.loc[len(company_salary)] = data_list\n",
    "    print(name)"
   ]
  },
  {
   "cell_type": "code",
   "execution_count": null,
   "id": "ed943a04",
   "metadata": {},
   "outputs": [],
   "source": [
    "from selenium import webdriver\n",
    "from selenium.webdriver.common.keys import Keys\n",
    "import time\n",
    "import pandas as pd\n",
    "\n",
    "driver = webdriver.Chrome('C:/Program Files (x86)/Google/Chrome/Application/chromedriver')\n",
    "\n",
    "col1=url_df['회사명'].tolist()[46:]\n",
    "col2=url_df['링크'].tolist()[46:]\n",
    "\n",
    "for name, link in zip(col1, col2):\n",
    "    if link!='':\n",
    "        driver.get(link)\n",
    "        time.sleep(1)\n",
    "        crawl(name)\n",
    "        print(link)\n",
    "    else:\n",
    "        data_list=[name,'']\n",
    "        company_salary.loc[len(company_salary)] = data_list"
   ]
  },
  {
   "cell_type": "code",
   "execution_count": 172,
   "id": "f11f4384",
   "metadata": {},
   "outputs": [],
   "source": [
    "company_salary2=company_salary[company_salary['평균연봉']!='']"
   ]
  },
  {
   "cell_type": "code",
   "execution_count": 174,
   "id": "d33a2747",
   "metadata": {},
   "outputs": [],
   "source": [
    "company_salary.to_excel('C:/Users/xnote/Desktop/사람인 평균연봉_빈칸O.xlsx',index=False)\n",
    "company_salary2.to_excel('C:/Users/xnote/Desktop/사람인 평균연봉_빈칸X.xlsx',index=False)"
   ]
  }
 ],
 "metadata": {
  "kernelspec": {
   "display_name": "Python 3",
   "language": "python",
   "name": "python3"
  },
  "language_info": {
   "codemirror_mode": {
    "name": "ipython",
    "version": 3
   },
   "file_extension": ".py",
   "mimetype": "text/x-python",
   "name": "python",
   "nbconvert_exporter": "python",
   "pygments_lexer": "ipython3",
   "version": "3.8.8"
  }
 },
 "nbformat": 4,
 "nbformat_minor": 5
}
