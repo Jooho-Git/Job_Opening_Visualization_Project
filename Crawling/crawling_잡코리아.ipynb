{
 "cells": [
  {
   "cell_type": "code",
   "execution_count": 1,
   "id": "8aaf2d67",
   "metadata": {},
   "outputs": [],
   "source": [
    "from selenium import webdriver\n",
    "from selenium.webdriver.common.keys import Keys\n",
    "from bs4 import BeautifulSoup\n",
    "from time import sleep\n",
    "import pandas as pd\n",
    "import numpy as np\n",
    "import time"
   ]
  },
  {
   "cell_type": "code",
   "execution_count": 2,
   "id": "c4f13676",
   "metadata": {},
   "outputs": [],
   "source": [
    "df=pd.read_excel(\"C:/Users/xnote/Desktop/잡플래닛_기업리스트.xlsx\")\n",
    "df.set_index('Unnamed: 0',inplace=True)"
   ]
  },
  {
   "cell_type": "code",
   "execution_count": 10,
   "id": "7d09bc84",
   "metadata": {
    "scrolled": true
   },
   "outputs": [
    {
     "name": "stdout",
     "output_type": "stream",
     "text": [
      "Requirement already satisfied: requests in c:\\programdata\\anaconda3\\lib\\site-packages (2.25.1)\n",
      "Requirement already satisfied: certifi>=2017.4.17 in c:\\programdata\\anaconda3\\lib\\site-packages (from requests) (2020.12.5)\n",
      "Requirement already satisfied: urllib3<1.27,>=1.21.1 in c:\\programdata\\anaconda3\\lib\\site-packages (from requests) (1.26.4)\n",
      "Requirement already satisfied: idna<3,>=2.5 in c:\\programdata\\anaconda3\\lib\\site-packages (from requests) (2.10)\n",
      "Requirement already satisfied: chardet<5,>=3.0.2 in c:\\programdata\\anaconda3\\lib\\site-packages (from requests) (4.0.0)\n"
     ]
    }
   ],
   "source": [
    "! pip install requests"
   ]
  },
  {
   "cell_type": "markdown",
   "id": "3714b417",
   "metadata": {},
   "source": [
    "# 로드\n",
    "1. url을 회사별로 구하고, 없는 건 빈칸으로 둔다.\n",
    "2. salary를 더한 url을 구하고 오류나면 빈칸, 오류가 안나면 추가\n",
    "3. 결과적으로 스키마는 회사명, 링크, 연봉링크로 되어있고 여기서 연봉 링크에 해당하는 것에서만 입퇴사자 추이를 구한다."
   ]
  },
  {
   "cell_type": "code",
   "execution_count": 763,
   "id": "92af5803",
   "metadata": {},
   "outputs": [],
   "source": [
    "pd.set_option('display.max_row', 6000)\n",
    "pd.set_option('display.max_columns', 100)"
   ]
  },
  {
   "cell_type": "code",
   "execution_count": 589,
   "id": "1e9d6ffd",
   "metadata": {
    "scrolled": true
   },
   "outputs": [
    {
     "data": {
      "text/html": [
       "<div>\n",
       "<style scoped>\n",
       "    .dataframe tbody tr th:only-of-type {\n",
       "        vertical-align: middle;\n",
       "    }\n",
       "\n",
       "    .dataframe tbody tr th {\n",
       "        vertical-align: top;\n",
       "    }\n",
       "\n",
       "    .dataframe thead th {\n",
       "        text-align: right;\n",
       "    }\n",
       "</style>\n",
       "<table border=\"1\" class=\"dataframe\">\n",
       "  <thead>\n",
       "    <tr style=\"text-align: right;\">\n",
       "      <th></th>\n",
       "      <th>회사명</th>\n",
       "      <th>링크</th>\n",
       "    </tr>\n",
       "  </thead>\n",
       "  <tbody>\n",
       "  </tbody>\n",
       "</table>\n",
       "</div>"
      ],
      "text/plain": [
       "Empty DataFrame\n",
       "Columns: [회사명, 링크]\n",
       "Index: []"
      ]
     },
     "execution_count": 589,
     "metadata": {},
     "output_type": "execute_result"
    }
   ],
   "source": [
    "url_df = {\n",
    "    '회사명' : [],\n",
    "    '링크' : []\n",
    "}\n",
    "url_df = pd.DataFrame(url_df)\n",
    "url_df"
   ]
  },
  {
   "cell_type": "code",
   "execution_count": null,
   "id": "77f63d5c",
   "metadata": {},
   "outputs": [],
   "source": [
    "import requests\n",
    "import urllib.parse\n",
    "from bs4 import BeautifulSoup\n",
    "\n",
    "dic = {'(주)하나투어':1, '(주)유베이스':3}\n",
    "urls=[]\n",
    "for col in df.columns:\n",
    "    for c in df[col]:\n",
    "        baseurl = 'https://www.jobkorea.co.kr/Search/?stext='+urllib.parse.quote_plus(c)+'&tabType=corp&Page_No=1'\n",
    "        response = requests.get(baseurl)\n",
    "        html = BeautifulSoup(response.text, 'html.parser')\n",
    "        try: \n",
    "            tags = html.select('#content > div > div > div.cnt-list-wrap > div > div.corp-info > div.lists > div > div.list-default > ul')[0].find_all('a')\n",
    "            if (c=='(주)하나투어') | (c=='(주)유베이스'):\n",
    "                url_df.loc[len(url_df)] = [c,'https://www.jobkorea.co.kr'+tags[dic[c]].attrs['href']]\n",
    "            else: url_df.loc[len(url_df)] = [c,'https://www.jobkorea.co.kr'+tags[0].attrs['href']]\n",
    "            print(c)\n",
    "        except IndexError:\n",
    "            url_df.loc[len(url_df)] = [c,'']"
   ]
  },
  {
   "cell_type": "code",
   "execution_count": null,
   "id": "b7f6f1ac",
   "metadata": {},
   "outputs": [],
   "source": [
    "link_list_salary=[]\n",
    "for url in url_df['링크'].tolist():\n",
    "    if url=='': link_list_salary.append(url)\n",
    "    else:\n",
    "        url=url+'/salary'\n",
    "        link_list_salary.append(url)"
   ]
  },
  {
   "cell_type": "code",
   "execution_count": 634,
   "id": "88cbd311",
   "metadata": {},
   "outputs": [
    {
     "data": {
      "text/plain": [
       "855"
      ]
     },
     "execution_count": 634,
     "metadata": {},
     "output_type": "execute_result"
    }
   ],
   "source": [
    "len(link_list_salary_nonerror)"
   ]
  },
  {
   "cell_type": "markdown",
   "id": "6bd6afd8",
   "metadata": {},
   "source": [
    "## 평균연봉 + 근속연수"
   ]
  },
  {
   "cell_type": "code",
   "execution_count": 615,
   "id": "bb01961e",
   "metadata": {},
   "outputs": [],
   "source": [
    "link_list_salary=[]\n",
    "for url in urls:\n",
    "    url=url+'/salary'\n",
    "    link_list_salary.append(url)"
   ]
  },
  {
   "cell_type": "code",
   "execution_count": 192,
   "id": "1f34aee0",
   "metadata": {},
   "outputs": [
    {
     "data": {
      "text/html": [
       "<div>\n",
       "<style scoped>\n",
       "    .dataframe tbody tr th:only-of-type {\n",
       "        vertical-align: middle;\n",
       "    }\n",
       "\n",
       "    .dataframe tbody tr th {\n",
       "        vertical-align: top;\n",
       "    }\n",
       "\n",
       "    .dataframe thead th {\n",
       "        text-align: right;\n",
       "    }\n",
       "</style>\n",
       "<table border=\"1\" class=\"dataframe\">\n",
       "  <thead>\n",
       "    <tr style=\"text-align: right;\">\n",
       "      <th></th>\n",
       "      <th>회사명</th>\n",
       "      <th>평균연봉</th>\n",
       "      <th>근속연수</th>\n",
       "    </tr>\n",
       "  </thead>\n",
       "  <tbody>\n",
       "  </tbody>\n",
       "</table>\n",
       "</div>"
      ],
      "text/plain": [
       "Empty DataFrame\n",
       "Columns: [회사명, 평균연봉, 근속연수]\n",
       "Index: []"
      ]
     },
     "execution_count": 192,
     "metadata": {},
     "output_type": "execute_result"
    }
   ],
   "source": [
    "company_salary = {\n",
    "    '회사명' : [],\n",
    "    '평균연봉' : [],\n",
    "    '근속연수' : []\n",
    "}\n",
    "company_salary = pd.DataFrame(company_salary)\n",
    "company_salary"
   ]
  },
  {
   "cell_type": "code",
   "execution_count": 193,
   "id": "169b9d10",
   "metadata": {},
   "outputs": [],
   "source": [
    "def crawl1():\n",
    "    data_list=[]\n",
    "    try:\n",
    "        # 회사명 가져오기\n",
    "        data_list.append(driver.find_element_by_xpath('/html/body/div[1]/div[4]/div[2]/div[1]/div/div[2]/div[2]').text)\n",
    "        # 위치가 잘못 설정되어 '공유'로 가져올 경우, 위치 변경\n",
    "        if data_list[0]=='공유':\n",
    "            data_list.remove('공유')\n",
    "            data_list.append(driver.find_element_by_xpath('/html/body/div[1]/div[4]/div[2]/div[1]/div/div[1]/div[2]').text)\n",
    "            \n",
    "        try:\n",
    "            # 연봉 가져오기\n",
    "            data_list.append(driver.find_element_by_xpath('//*[@id=\"company-body\"]/section/article/div[1]/div/div[2]/div[1]/div[1]/div[1]').text)\n",
    "        except:\n",
    "            # 연봉이 없을 경우(?)\n",
    "            data_list.append('error')\n",
    "        try:\n",
    "            # 근속연수 가져오기\n",
    "            a = driver.find_element_by_xpath('//*[@id=\"company-body\"]/section/article/div[1]/div/div[2]/div[1]/div[2]/div[2]/strong').text\n",
    "            try:\n",
    "                # 근속연수란에 숫자형 있는 경우, 제외\n",
    "                if type(int(a))==int:\n",
    "                    data_list.append('-')\n",
    "            except:\n",
    "                # 제대로 있다면 근속연수 그대로 가져오기\n",
    "                data_list.append(a)\n",
    "        except:\n",
    "            # 근속연수란이 없을 경우, 제외\n",
    "            data_list.append('-')\n",
    "            \n",
    "    # 위치가 잘못 설정되어 아예 오류를 반환할 경우\n",
    "    except:\n",
    "        try:\n",
    "            # 회사명 가져오기\n",
    "            data_list.append(driver.find_element_by_xpath('/html/body/div[1]/div[4]/div[2]/div[1]/div/div[1]/div[2]').text)\n",
    "            try:\n",
    "                # 연봉 가져오기\n",
    "                data_list.append(driver.find_element_by_xpath('//*[@id=\"company-body\"]/section/article/div[1]/div/div[2]/div[1]/div[1]/div[1]').text)\n",
    "            except:\n",
    "                data_list.append('error')\n",
    "            try:\n",
    "                a = driver.find_element_by_xpath('//*[@id=\"company-body\"]/section/article/div[1]/div/div[2]/div[1]/div[2]/div[2]/strong').text\n",
    "                try:\n",
    "                    if type(int(a))==int:\n",
    "                        data_list.append('-')\n",
    "                except:\n",
    "                    data_list.append(a)\n",
    "            except:\n",
    "                data_list.append('-')\n",
    "            \n",
    "        except:\n",
    "            for _ in range(3):\n",
    "                data_list.append('error')\n",
    "                \n",
    "    company_salary.loc[len(company_salary)] = data_list\n",
    "    print(i)"
   ]
  },
  {
   "cell_type": "code",
   "execution_count": null,
   "id": "b1d7766d",
   "metadata": {},
   "outputs": [],
   "source": [
    "from selenium import webdriver\n",
    "from selenium.webdriver.common.keys import Keys\n",
    "import time\n",
    "import pandas as pd\n",
    "\n",
    "driver = webdriver.Chrome('C:/Program Files (x86)/Google/Chrome/Application/chromedriver')\n",
    "\n",
    "for i, link in enumerate(link_list_salary):\n",
    "    driver.get(link)\n",
    "    time.sleep(0.5)\n",
    "    crawl1()\n",
    "    print(link)"
   ]
  },
  {
   "cell_type": "code",
   "execution_count": null,
   "id": "4b989761",
   "metadata": {},
   "outputs": [],
   "source": [
    "from selenium import webdriver\n",
    "from selenium.webdriver.common.keys import Keys\n",
    "import time\n",
    "import pandas as pd\n",
    "\n",
    "driver = webdriver.Chrome('C:/Program Files (x86)/Google/Chrome/Application/chromedriver')\n",
    "\n",
    "for i, link in enumerate(link_list_salary[874:]):\n",
    "    driver.get(link)\n",
    "    time.sleep(0.5)\n",
    "    crawl1()\n",
    "    print(link)"
   ]
  },
  {
   "cell_type": "code",
   "execution_count": null,
   "id": "cd6a5827",
   "metadata": {},
   "outputs": [],
   "source": [
    "company_salary_copy=company_salary.copy()\n",
    "company_salary_copy"
   ]
  },
  {
   "cell_type": "code",
   "execution_count": 323,
   "id": "cd2c8b36",
   "metadata": {},
   "outputs": [],
   "source": [
    "for i in range(959):\n",
    "    try:\n",
    "        m=company_salary['근속연수'][i]\n",
    "        m=m.replace(',','')\n",
    "        if type(int(m))==int:\n",
    "            company_salary['근속연수'][i]='-'\n",
    "    except:\n",
    "        pass"
   ]
  },
  {
   "cell_type": "code",
   "execution_count": 337,
   "id": "7178e6d8",
   "metadata": {},
   "outputs": [],
   "source": [
    "company_salary_copy2=company_salary_copy[company_salary_copy['회사명']!='error']\n",
    "company_salary_copy3=company_salary_copy2[company_salary_copy2['근속연수']!='-']"
   ]
  },
  {
   "cell_type": "code",
   "execution_count": 342,
   "id": "7ed17139",
   "metadata": {},
   "outputs": [],
   "source": [
    "company_salary_copy3.to_excel('C:/Users/xnote/Desktop/잡코리아 근속연수.xlsx',index=False)"
   ]
  },
  {
   "cell_type": "markdown",
   "id": "0a34609b",
   "metadata": {},
   "source": [
    "## 입퇴사자 추이"
   ]
  },
  {
   "cell_type": "code",
   "execution_count": 754,
   "id": "5e717513",
   "metadata": {},
   "outputs": [
    {
     "data": {
      "text/html": [
       "<div>\n",
       "<style scoped>\n",
       "    .dataframe tbody tr th:only-of-type {\n",
       "        vertical-align: middle;\n",
       "    }\n",
       "\n",
       "    .dataframe tbody tr th {\n",
       "        vertical-align: top;\n",
       "    }\n",
       "\n",
       "    .dataframe thead th {\n",
       "        text-align: right;\n",
       "    }\n",
       "</style>\n",
       "<table border=\"1\" class=\"dataframe\">\n",
       "  <thead>\n",
       "    <tr style=\"text-align: right;\">\n",
       "      <th></th>\n",
       "      <th>회사명</th>\n",
       "      <th>월</th>\n",
       "      <th>총인원</th>\n",
       "      <th>입사자수</th>\n",
       "      <th>퇴사자수</th>\n",
       "    </tr>\n",
       "  </thead>\n",
       "  <tbody>\n",
       "  </tbody>\n",
       "</table>\n",
       "</div>"
      ],
      "text/plain": [
       "Empty DataFrame\n",
       "Columns: [회사명, 월, 총인원, 입사자수, 퇴사자수]\n",
       "Index: []"
      ]
     },
     "execution_count": 754,
     "metadata": {},
     "output_type": "execute_result"
    }
   ],
   "source": [
    "company_entrant_retiree = {\n",
    "    '회사명' : [],\n",
    "    '월' : [], \n",
    "    '총인원' : [], \n",
    "    '입사자수' : [],\n",
    "    '퇴사자수' : []\n",
    "}\n",
    "company_entrant_retiree = pd.DataFrame(company_entrant_retiree)\n",
    "company_entrant_retiree"
   ]
  },
  {
   "cell_type": "code",
   "execution_count": 757,
   "id": "29faa34e",
   "metadata": {},
   "outputs": [],
   "source": [
    "def crawl3(company_name):\n",
    "        try:\n",
    "            data_list=[]\n",
    "            # 연월 첫번째가 없는 것은 아예 링크가 없는 것이므로 전체 패스\n",
    "            data_list.append(driver.find_element_by_css_selector(f'#chartMonthlyLeavePerson > svg > text:nth-child({11}) > tspan').text)\n",
    "            for i in range(6,12):\n",
    "                data_list=[company_name]\n",
    "                try:\n",
    "                    # 연월\n",
    "                    data_list.append(driver.find_element_by_css_selector(f'#chartMonthlyLeavePerson > svg > text:nth-child({17-i}) > tspan').text)\n",
    "                except:\n",
    "                    data_list.append('-')\n",
    "                try:\n",
    "                    # 총인원\n",
    "                    data_list.append(driver.find_element_by_css_selector(f'#chartMonthlyTotalPerson > svg > text:nth-child({i*2+11}) > tspan').text)\n",
    "                except:\n",
    "                    data_list.append('-')\n",
    "                try:\n",
    "                    # 입사자수\n",
    "                    data_list.append(driver.find_element_by_css_selector(f'#chartMonthlyLeavePerson > svg > text:nth-child({4*i-6}) > tspan').text)\n",
    "                except:\n",
    "                    data_list.append('-')\n",
    "                try:\n",
    "                    # 퇴사자수\n",
    "                    data_list.append(driver.find_element_by_css_selector(f'#chartMonthlyLeavePerson > svg > text:nth-child({4*i-5}) > tspan').text)\n",
    "                except:\n",
    "                    data_list.append('-')\n",
    "                company_entrant_retiree.loc[len(company_entrant_retiree)] = data_list\n",
    "                print(data_list)\n",
    "        except:\n",
    "            data_list=[company_name]\n",
    "            for _ in range(4):\n",
    "                data_list.append('-')\n",
    "            company_entrant_retiree.loc[len(company_entrant_retiree)] = data_list"
   ]
  },
  {
   "cell_type": "code",
   "execution_count": 806,
   "id": "ef8255bc",
   "metadata": {},
   "outputs": [],
   "source": [
    "a=x1['회사명'].tolist()\n",
    "b=x1['링크'].tolist()\n",
    "ab=zip(a,b)"
   ]
  },
  {
   "cell_type": "code",
   "execution_count": null,
   "id": "0c13d5c7",
   "metadata": {},
   "outputs": [],
   "source": [
    "driver = webdriver.Chrome('C:/Program Files (x86)/Google/Chrome/Application/chromedriver')\n",
    "for company_name, link in ab:\n",
    "    if link!='':\n",
    "        driver.get(link)\n",
    "        time.sleep(2)\n",
    "        crawl3(company_name)\n",
    "        print(link)\n",
    "    else:\n",
    "        data_list=[company_name]\n",
    "        for _ in range(4):\n",
    "            data_list.append('-')\n",
    "        company_entrant_retiree.loc[len(company_entrant_retiree)] = data_list\n",
    "        print(data_list)"
   ]
  },
  {
   "cell_type": "code",
   "execution_count": 890,
   "id": "9bd87368",
   "metadata": {},
   "outputs": [],
   "source": [
    "company_entrant_retiree=company_entrant_retiree.rename(columns={'월':'연월'})"
   ]
  },
  {
   "cell_type": "code",
   "execution_count": 891,
   "id": "e380b039",
   "metadata": {
    "scrolled": true
   },
   "outputs": [
    {
     "name": "stderr",
     "output_type": "stream",
     "text": [
      "C:\\ProgramData\\Anaconda3\\lib\\site-packages\\pandas\\core\\frame.py:4524: SettingWithCopyWarning: \n",
      "A value is trying to be set on a copy of a slice from a DataFrame\n",
      "\n",
      "See the caveats in the documentation: https://pandas.pydata.org/pandas-docs/stable/user_guide/indexing.html#returning-a-view-versus-a-copy\n",
      "  return super().replace(\n"
     ]
    }
   ],
   "source": [
    "company_entrant_retiree2=company_entrant_retiree[company_entrant_retiree['총인원']!='-']\n",
    "company_entrant_retiree2.replace('-','0',inplace=True)"
   ]
  },
  {
   "cell_type": "code",
   "execution_count": 830,
   "id": "293cd670",
   "metadata": {},
   "outputs": [],
   "source": [
    "company_entrant_retiree.to_excel('C:/Users/xnote/Desktop/잡코리아 입퇴사자추이_원본.xlsx',index=False)"
   ]
  },
  {
   "cell_type": "code",
   "execution_count": 919,
   "id": "591ec1db",
   "metadata": {},
   "outputs": [],
   "source": [
    "company_entrant_retiree3.replace(np.nan,'0',inplace=True)"
   ]
  },
  {
   "cell_type": "code",
   "execution_count": 920,
   "id": "3086f087",
   "metadata": {},
   "outputs": [],
   "source": [
    "import re\n",
    "num_list1=[]\n",
    "for string in company_entrant_retiree3['총인원']:\n",
    "    num_list1.append(int(re.sub(r'[^a-zA-Z0-9]','',string)))\n",
    "    \n",
    "num_list2=[]\n",
    "for string in company_entrant_retiree3['입사자수']:\n",
    "    num_list2.append(int(re.sub(r'[^a-zA-Z0-9]','',str(string))))\n",
    "    \n",
    "num_list3=[]\n",
    "for string in company_entrant_retiree3['퇴사자수']:\n",
    "    num_list3.append(int(re.sub(r'[^a-zA-Z0-9]','',str(string))))"
   ]
  },
  {
   "cell_type": "code",
   "execution_count": 923,
   "id": "53daf7a3",
   "metadata": {},
   "outputs": [],
   "source": [
    "company_entrant_retiree3['총인원']=num_list1\n",
    "company_entrant_retiree3['입사자수']=num_list2\n",
    "company_entrant_retiree3['퇴사자수']=num_list3"
   ]
  },
  {
   "cell_type": "code",
   "execution_count": 931,
   "id": "1f1ec9fd",
   "metadata": {},
   "outputs": [],
   "source": [
    "company_entrant_retiree3.to_excel('C:/Users/xnote/Desktop/잡코리아 입퇴사자추이.xlsx',index=False)"
   ]
  },
  {
   "cell_type": "markdown",
   "id": "f815785f",
   "metadata": {},
   "source": [
    "## 재무분석 - 신용등급"
   ]
  },
  {
   "cell_type": "code",
   "execution_count": 387,
   "id": "82534cd1",
   "metadata": {},
   "outputs": [
    {
     "data": {
      "text/html": [
       "<div>\n",
       "<style scoped>\n",
       "    .dataframe tbody tr th:only-of-type {\n",
       "        vertical-align: middle;\n",
       "    }\n",
       "\n",
       "    .dataframe tbody tr th {\n",
       "        vertical-align: top;\n",
       "    }\n",
       "\n",
       "    .dataframe thead th {\n",
       "        text-align: right;\n",
       "    }\n",
       "</style>\n",
       "<table border=\"1\" class=\"dataframe\">\n",
       "  <thead>\n",
       "    <tr style=\"text-align: right;\">\n",
       "      <th></th>\n",
       "      <th>회사명</th>\n",
       "      <th>신용등급</th>\n",
       "    </tr>\n",
       "  </thead>\n",
       "  <tbody>\n",
       "  </tbody>\n",
       "</table>\n",
       "</div>"
      ],
      "text/plain": [
       "Empty DataFrame\n",
       "Columns: [회사명, 신용등급]\n",
       "Index: []"
      ]
     },
     "execution_count": 387,
     "metadata": {},
     "output_type": "execute_result"
    }
   ],
   "source": [
    "company_credit_rating = {\n",
    "    '회사명' : [],\n",
    "    '신용등급' : []\n",
    "}\n",
    "company_credit_rating = pd.DataFrame(company_credit_rating)\n",
    "company_credit_rating"
   ]
  },
  {
   "cell_type": "code",
   "execution_count": 393,
   "id": "d145040f",
   "metadata": {},
   "outputs": [],
   "source": [
    "def crawl(i,link):\n",
    "    data_list=[]\n",
    "    try:\n",
    "        # 회사명 가져오기\n",
    "        data_list.append(driver.find_element_by_xpath('/html/body/div[1]/div[4]/div[2]/div[1]/div/div[2]/div[2]').text)\n",
    "        # 위치가 잘못 설정되어 '공유'로 가져올 경우, 위치 변경\n",
    "        if data_list[0]=='공유':\n",
    "            data_list.remove('공유')\n",
    "            data_list.append(driver.find_element_by_xpath('/html/body/div[1]/div[4]/div[2]/div[1]/div/div[1]/div[2]').text)\n",
    "        # 신용등급 가져오기\n",
    "        for a,b in [(2,5), (2,6), (3,5), (3,6), (2,3), (3,3), (2,4), (3,4),(2,2),(3,2)]:\n",
    "            try: \n",
    "                data_list.append(driver.find_element_by_xpath(f'//*[@id=\"company-body\"]/div[1]/div[{a}]/div/div/div[{b}]/div[3]/div[1]/div/strong').text)\n",
    "                break\n",
    "            except:\n",
    "                if (a,b)!=(3,2): pass\n",
    "                else:\n",
    "                    data_list.append('error')\n",
    "    except:\n",
    "        # 혹시 모를 회사명 위치 잘못 선정할 경우 대비 예외 처리\n",
    "        try: \n",
    "            data_list.append(driver.find_element_by_xpath('/html/body/div[1]/div[4]/div[2]/div[1]/div/div[1]/div[2]').text)\n",
    "            for a,b in [(2,5), (2,6), (3,5), (3,6), (2,3), (3,3), (2,4),(3,4),(2,2),(3,2)]:\n",
    "                try: \n",
    "                    data_list.append(driver.find_element_by_xpath(f'//*[@id=\"company-body\"]/div[1]/div[{a}]/div/div/div[{b}]/div[3]/div[1]/div/strong').text)\n",
    "                    break\n",
    "                except:\n",
    "                    if (a,b)!=(3,2): pass\n",
    "                    else:\n",
    "                        data_list.append('error')\n",
    "        except:\n",
    "            for _ in range(2):\n",
    "                data_list.append('error')\n",
    "    company_credit_rating.loc[len(company_credit_rating)] = data_list\n",
    "    print(i)\n",
    "    print(link)"
   ]
  },
  {
   "cell_type": "code",
   "execution_count": null,
   "id": "5f039e9e",
   "metadata": {},
   "outputs": [],
   "source": [
    "from selenium import webdriver\n",
    "from selenium.webdriver.common.keys import Keys\n",
    "import time\n",
    "import pandas as pd\n",
    "\n",
    "driver = webdriver.Chrome('C:/Program Files (x86)/Google/Chrome/Application/chromedriver')\n",
    "\n",
    "for i, link in enumerate(link_list_info[896:]):\n",
    "    driver.get(link)\n",
    "    time.sleep(0.5)\n",
    "    crawl(i,link)"
   ]
  },
  {
   "cell_type": "code",
   "execution_count": null,
   "id": "795cf891",
   "metadata": {},
   "outputs": [],
   "source": [
    "company_credit_rating=pd.read_excel('C:/Users/xnote/Desktop/잡코리아 신용등급.xlsx')\n",
    "company_credit_rating"
   ]
  },
  {
   "cell_type": "code",
   "execution_count": 472,
   "id": "9c6ca53b",
   "metadata": {},
   "outputs": [],
   "source": [
    "company_credit_rating.to_excel('C:/Users/xnote/Desktop/잡코리아 신용등급.xlsx',index=False)"
   ]
  }
 ],
 "metadata": {
  "kernelspec": {
   "display_name": "Python 3",
   "language": "python",
   "name": "python3"
  },
  "language_info": {
   "codemirror_mode": {
    "name": "ipython",
    "version": 3
   },
   "file_extension": ".py",
   "mimetype": "text/x-python",
   "name": "python",
   "nbconvert_exporter": "python",
   "pygments_lexer": "ipython3",
   "version": "3.8.8"
  }
 },
 "nbformat": 4,
 "nbformat_minor": 5
}
