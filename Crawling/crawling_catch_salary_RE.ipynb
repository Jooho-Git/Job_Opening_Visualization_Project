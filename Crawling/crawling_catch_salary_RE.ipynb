{
 "cells": [
  {
   "cell_type": "code",
   "execution_count": 1,
   "id": "f2bba31d",
   "metadata": {},
   "outputs": [],
   "source": [
    "import requests\n",
    "from bs4 import BeautifulSoup\n",
    "from selenium import webdriver\n",
    "from selenium.webdriver.common.keys import Keys\n",
    "import time\n",
    "import pandas as pd"
   ]
  },
  {
   "cell_type": "code",
   "execution_count": 5,
   "id": "4b573065",
   "metadata": {},
   "outputs": [
    {
     "data": {
      "text/plain": [
       "'(주)에스원'"
      ]
     },
     "execution_count": 5,
     "metadata": {},
     "output_type": "execute_result"
    }
   ],
   "source": [
    "company = pd.read_excel('평균연봉_캐치_재수집필요.xlsx')\n",
    "company = pd.Series(company['회사명'])\n",
    "company[0]"
   ]
  },
  {
   "cell_type": "code",
   "execution_count": 6,
   "id": "4fe4c947",
   "metadata": {},
   "outputs": [],
   "source": [
    "# 0. 드라이버\n",
    "driver = webdriver.Chrome()"
   ]
  },
  {
   "cell_type": "code",
   "execution_count": 56,
   "id": "f3a70ad9",
   "metadata": {},
   "outputs": [],
   "source": [
    "name = []\n",
    "salary = []\n",
    "\n",
    "for comp in company:\n",
    "    driver.get(total_concat[total_concat[0] == comp][1].to_string(index=False))\n",
    "    # driver.get(total_concat[total_concat=comp]) # 이거 아님!\n",
    "    name.append(comp)\n",
    "    try:\n",
    "        if driver.find_elements_by_css_selector('#Contents > div:nth-child(2) > div.divide_com1.wd50_50 > div.left > div > table > tbody > tr:nth-child(3) > td > span') == []:\n",
    "            salary.append(driver.find_element_by_css_selector('#Contents > div:nth-child(2) > div.divide_com1.wd50_50 > div.left > div > table > tbody > tr:nth-child(1) > td > span').text)\n",
    "        else:\n",
    "            salary.append(driver.find_element_by_css_selector('#Contents > div:nth-child(2) > div.divide_com1.wd50_50 > div.left > div > table > tbody > tr:nth-child(2) > td > span').text)\n",
    "    except:\n",
    "        salary.append(None)\n",
    "\n",
    "result = pd.DataFrame()\n",
    "\n",
    "result['회사명'] = pd.Series(name)\n",
    "result['평균연봉'] = pd.Series(salary)\n",
    "\n",
    "result.to_excel(\"평균연봉_캐치_나머지.xlsx\", index=True)"
   ]
  },
  {
   "cell_type": "code",
   "execution_count": 42,
   "id": "9fa1ce3c",
   "metadata": {},
   "outputs": [
    {
     "data": {
      "text/html": [
       "<div>\n",
       "<style scoped>\n",
       "    .dataframe tbody tr th:only-of-type {\n",
       "        vertical-align: middle;\n",
       "    }\n",
       "\n",
       "    .dataframe tbody tr th {\n",
       "        vertical-align: top;\n",
       "    }\n",
       "\n",
       "    .dataframe thead th {\n",
       "        text-align: right;\n",
       "    }\n",
       "</style>\n",
       "<table border=\"1\" class=\"dataframe\">\n",
       "  <thead>\n",
       "    <tr style=\"text-align: right;\">\n",
       "      <th></th>\n",
       "      <th>회사명</th>\n",
       "      <th>평균연봉</th>\n",
       "    </tr>\n",
       "  </thead>\n",
       "  <tbody>\n",
       "    <tr>\n",
       "      <th>0</th>\n",
       "      <td>(주)에스원</td>\n",
       "      <td>6,594만원</td>\n",
       "    </tr>\n",
       "    <tr>\n",
       "      <th>1</th>\n",
       "      <td>(주)한국코퍼레이션</td>\n",
       "      <td>3,109만원</td>\n",
       "    </tr>\n",
       "    <tr>\n",
       "      <th>2</th>\n",
       "      <td>(주)피알원</td>\n",
       "      <td>3,826만원</td>\n",
       "    </tr>\n",
       "    <tr>\n",
       "      <th>3</th>\n",
       "      <td>에스피씨그룹</td>\n",
       "      <td>5,049만원</td>\n",
       "    </tr>\n",
       "    <tr>\n",
       "      <th>4</th>\n",
       "      <td>스탭스(주)</td>\n",
       "      <td>3,109만원</td>\n",
       "    </tr>\n",
       "    <tr>\n",
       "      <th>5</th>\n",
       "      <td>(주)키스템프</td>\n",
       "      <td>3,109만원</td>\n",
       "    </tr>\n",
       "    <tr>\n",
       "      <th>6</th>\n",
       "      <td>서비스탑(주)</td>\n",
       "      <td>3,402만원</td>\n",
       "    </tr>\n",
       "    <tr>\n",
       "      <th>7</th>\n",
       "      <td>키자니아</td>\n",
       "      <td>3,109만원</td>\n",
       "    </tr>\n",
       "    <tr>\n",
       "      <th>8</th>\n",
       "      <td>(주)약손명가</td>\n",
       "      <td>3,813만원</td>\n",
       "    </tr>\n",
       "    <tr>\n",
       "      <th>9</th>\n",
       "      <td>내일투어(주)</td>\n",
       "      <td>3,310만원</td>\n",
       "    </tr>\n",
       "    <tr>\n",
       "      <th>10</th>\n",
       "      <td>(주)윌앤비전</td>\n",
       "      <td>3,109만원</td>\n",
       "    </tr>\n",
       "    <tr>\n",
       "      <th>11</th>\n",
       "      <td>(주)쏘카</td>\n",
       "      <td>3,665만원</td>\n",
       "    </tr>\n",
       "    <tr>\n",
       "      <th>12</th>\n",
       "      <td>(주)한국고용정보</td>\n",
       "      <td>3,109만원</td>\n",
       "    </tr>\n",
       "    <tr>\n",
       "      <th>13</th>\n",
       "      <td>(주)코엑스</td>\n",
       "      <td>3,109만원</td>\n",
       "    </tr>\n",
       "    <tr>\n",
       "      <th>14</th>\n",
       "      <td>(주)요거프레소</td>\n",
       "      <td>3,522만원</td>\n",
       "    </tr>\n",
       "    <tr>\n",
       "      <th>15</th>\n",
       "      <td>(주)더메인즈</td>\n",
       "      <td>NaN</td>\n",
       "    </tr>\n",
       "  </tbody>\n",
       "</table>\n",
       "</div>"
      ],
      "text/plain": [
       "           회사명     평균연봉\n",
       "0       (주)에스원  6,594만원\n",
       "1   (주)한국코퍼레이션  3,109만원\n",
       "2       (주)피알원  3,826만원\n",
       "3       에스피씨그룹  5,049만원\n",
       "4       스탭스(주)  3,109만원\n",
       "5      (주)키스템프  3,109만원\n",
       "6      서비스탑(주)  3,402만원\n",
       "7         키자니아  3,109만원\n",
       "8      (주)약손명가  3,813만원\n",
       "9      내일투어(주)  3,310만원\n",
       "10     (주)윌앤비전  3,109만원\n",
       "11       (주)쏘카  3,665만원\n",
       "12   (주)한국고용정보  3,109만원\n",
       "13      (주)코엑스  3,109만원\n",
       "14    (주)요거프레소  3,522만원\n",
       "15     (주)더메인즈      NaN"
      ]
     },
     "execution_count": 42,
     "metadata": {},
     "output_type": "execute_result"
    }
   ],
   "source": [
    "result = pd.DataFrame()\n",
    "\n",
    "result['회사명'] = pd.Series(name)\n",
    "result['평균연봉'] = pd.Series(salary)\n",
    "\n",
    "result"
   ]
  }
 ],
 "metadata": {
  "kernelspec": {
   "display_name": "Python 3",
   "language": "python",
   "name": "python3"
  },
  "language_info": {
   "codemirror_mode": {
    "name": "ipython",
    "version": 3
   },
   "file_extension": ".py",
   "mimetype": "text/x-python",
   "name": "python",
   "nbconvert_exporter": "python",
   "pygments_lexer": "ipython3",
   "version": "3.8.8"
  }
 },
 "nbformat": 4,
 "nbformat_minor": 5
}
