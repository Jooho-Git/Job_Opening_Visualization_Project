{
 "cells": [
  {
   "cell_type": "code",
   "execution_count": 1,
   "id": "9765d001",
   "metadata": {},
   "outputs": [],
   "source": [
    "import pandas as pd\n",
    "import numpy as np"
   ]
  },
  {
   "cell_type": "code",
   "execution_count": null,
   "id": "a9ac9607",
   "metadata": {},
   "outputs": [],
   "source": [
    "review = pd.read_csv('(완)항목별리뷰데이터.csv').iloc[:,1:]\n",
    "review['항목'] = review['항목'].fillna('기타')"
   ]
  },
  {
   "cell_type": "code",
   "execution_count": 30,
   "id": "65360a94",
   "metadata": {},
   "outputs": [
    {
     "name": "stdout",
     "output_type": "stream",
     "text": [
      "<class 'pandas.core.frame.DataFrame'>\n",
      "RangeIndex: 317390 entries, 0 to 317389\n",
      "Data columns (total 5 columns):\n",
      " #   Column  Non-Null Count   Dtype \n",
      "---  ------  --------------   ----- \n",
      " 0   회사명     317390 non-null  object\n",
      " 1   플랫폼     317390 non-null  object\n",
      " 2   항목      317390 non-null  object\n",
      " 3   의견      317390 non-null  object\n",
      " 4   리뷰      317390 non-null  object\n",
      "dtypes: object(5)\n",
      "memory usage: 12.1+ MB\n"
     ]
    }
   ],
   "source": [
    "review.info()"
   ]
  },
  {
   "cell_type": "code",
   "execution_count": 33,
   "id": "6b384094",
   "metadata": {},
   "outputs": [],
   "source": [
    "# 리뷰 텍스트 형식 정리\n",
    "\n",
    "name = []\n",
    "category = []\n",
    "opinion = []\n",
    "texts = []\n",
    "\n",
    "# 긍정/부정 리뷰 각각 수집\n",
    "for n in review['회사명'].unique():\n",
    "    for c in review['항목'].unique():\n",
    "        for p in review['의견'].unique():\n",
    "            tmp = review[(review['회사명'] == n) & (review['항목'] == c) & (review['의견'] == p)]\n",
    "            name.append(n)\n",
    "            category.append(c)\n",
    "            opinion.append(p)\n",
    "            texts.append(tmp['리뷰'].tolist())\n",
    "\n",
    "# 긍정/부정 통합 수집\n",
    "for n in review['회사명'].unique():\n",
    "    for c in review['항목'].unique():\n",
    "        tmp = review[(review['회사명'] == n) & (review['항목'] == c) & (review['의견'] == p)]\n",
    "        name.append(n)\n",
    "        category.append(c)\n",
    "        opinion.append('통합')\n",
    "        texts.append(tmp['리뷰'].tolist())\n",
    "\n",
    "\n",
    "total_data = pd.DataFrame()\n",
    "total_data['회사명'] = pd.Series(name)\n",
    "total_data['항목'] = pd.Series(category)\n",
    "total_data['의견'] = pd.Series(opinion)\n",
    "total_data['리뷰'] = pd.Series(texts)\n",
    "total_data\n",
    "total_data.to_excel(\"최종_리뷰텍스트통합.xlsx\" ,index=True)"
   ]
  },
  {
   "cell_type": "code",
   "execution_count": 34,
   "id": "b837dee3",
   "metadata": {},
   "outputs": [
    {
     "data": {
      "text/html": [
       "<div>\n",
       "<style scoped>\n",
       "    .dataframe tbody tr th:only-of-type {\n",
       "        vertical-align: middle;\n",
       "    }\n",
       "\n",
       "    .dataframe tbody tr th {\n",
       "        vertical-align: top;\n",
       "    }\n",
       "\n",
       "    .dataframe thead th {\n",
       "        text-align: right;\n",
       "    }\n",
       "</style>\n",
       "<table border=\"1\" class=\"dataframe\">\n",
       "  <thead>\n",
       "    <tr style=\"text-align: right;\">\n",
       "      <th></th>\n",
       "      <th>회사명</th>\n",
       "      <th>항목</th>\n",
       "      <th>의견</th>\n",
       "      <th>리뷰</th>\n",
       "    </tr>\n",
       "  </thead>\n",
       "  <tbody>\n",
       "    <tr>\n",
       "      <th>0</th>\n",
       "      <td>(주)위메프</td>\n",
       "      <td>연봉</td>\n",
       "      <td>장점</td>\n",
       "      <td>[역세권 사무실워라밸 좋음구내식당(주로 돈가스 같은 저렴한 재료만씀)자사몰 이용시 ...</td>\n",
       "    </tr>\n",
       "    <tr>\n",
       "      <th>1</th>\n",
       "      <td>(주)위메프</td>\n",
       "      <td>연봉</td>\n",
       "      <td>단점</td>\n",
       "      <td>[회사매출 곤두박질침연봉동결 복지 다없앰경영진의 무능함우당탕탕 일이 생기고 없어지는...</td>\n",
       "    </tr>\n",
       "    <tr>\n",
       "      <th>2</th>\n",
       "      <td>(주)위메프</td>\n",
       "      <td>조직문화</td>\n",
       "      <td>장점</td>\n",
       "      <td>[7시 칼퇴근수평적 분위기맛있는 구내식당 (점심:2500원, 저녁:2000원), 수...</td>\n",
       "    </tr>\n",
       "    <tr>\n",
       "      <th>3</th>\n",
       "      <td>(주)위메프</td>\n",
       "      <td>조직문화</td>\n",
       "      <td>단점</td>\n",
       "      <td>[이커머스 시장 자체가 전반적으로 실적이 좋치 못하고,위메프도 마찬가지라서 경영에 ...</td>\n",
       "    </tr>\n",
       "    <tr>\n",
       "      <th>4</th>\n",
       "      <td>(주)위메프</td>\n",
       "      <td>기타</td>\n",
       "      <td>장점</td>\n",
       "      <td>[정시퇴근뿐이지만 그안에 모든걸 다 해결해야 퇴근한다….., 자유로운 연차 사용, ...</td>\n",
       "    </tr>\n",
       "    <tr>\n",
       "      <th>...</th>\n",
       "      <td>...</td>\n",
       "      <td>...</td>\n",
       "      <td>...</td>\n",
       "      <td>...</td>\n",
       "    </tr>\n",
       "    <tr>\n",
       "      <th>14935</th>\n",
       "      <td>한양사이버대학교</td>\n",
       "      <td>연봉</td>\n",
       "      <td>통합</td>\n",
       "      <td>[계약직 급여가 너무 짜다. 아르바이트 최저시급과 비슷하다., 고인물(아줌마)들이 ...</td>\n",
       "    </tr>\n",
       "    <tr>\n",
       "      <th>14936</th>\n",
       "      <td>한양사이버대학교</td>\n",
       "      <td>조직문화</td>\n",
       "      <td>통합</td>\n",
       "      <td>[고용불안정(계약직이많음), 복잡한 행정 절차가 많음, 승진이없음]</td>\n",
       "    </tr>\n",
       "    <tr>\n",
       "      <th>14937</th>\n",
       "      <td>한양사이버대학교</td>\n",
       "      <td>기타</td>\n",
       "      <td>통합</td>\n",
       "      <td>[각각의 사업단 센터로 기간제기 때문에 어딜 들어가느냐가 중요합니다, 좋은분도 있고...</td>\n",
       "    </tr>\n",
       "    <tr>\n",
       "      <th>14938</th>\n",
       "      <td>한양사이버대학교</td>\n",
       "      <td>워라밸</td>\n",
       "      <td>통합</td>\n",
       "      <td>[지방 사립대, 회식, 야근수당 상한선 20, 성희롱, 교직원 하대, 까다로운 행정...</td>\n",
       "    </tr>\n",
       "    <tr>\n",
       "      <th>14939</th>\n",
       "      <td>한양사이버대학교</td>\n",
       "      <td>커리어</td>\n",
       "      <td>통합</td>\n",
       "      <td>[양적으로 매우 급성장한 회사이나 질적으론 그러지 못함. 특히 경영진들의 자질이, ...</td>\n",
       "    </tr>\n",
       "  </tbody>\n",
       "</table>\n",
       "<p>14940 rows × 4 columns</p>\n",
       "</div>"
      ],
      "text/plain": [
       "            회사명    항목  의견                                                 리뷰\n",
       "0        (주)위메프    연봉  장점  [역세권 사무실워라밸 좋음구내식당(주로 돈가스 같은 저렴한 재료만씀)자사몰 이용시 ...\n",
       "1        (주)위메프    연봉  단점  [회사매출 곤두박질침연봉동결 복지 다없앰경영진의 무능함우당탕탕 일이 생기고 없어지는...\n",
       "2        (주)위메프  조직문화  장점  [7시 칼퇴근수평적 분위기맛있는 구내식당 (점심:2500원, 저녁:2000원), 수...\n",
       "3        (주)위메프  조직문화  단점  [이커머스 시장 자체가 전반적으로 실적이 좋치 못하고,위메프도 마찬가지라서 경영에 ...\n",
       "4        (주)위메프    기타  장점  [정시퇴근뿐이지만 그안에 모든걸 다 해결해야 퇴근한다….., 자유로운 연차 사용, ...\n",
       "...         ...   ...  ..                                                ...\n",
       "14935  한양사이버대학교    연봉  통합  [계약직 급여가 너무 짜다. 아르바이트 최저시급과 비슷하다., 고인물(아줌마)들이 ...\n",
       "14936  한양사이버대학교  조직문화  통합              [고용불안정(계약직이많음), 복잡한 행정 절차가 많음, 승진이없음]\n",
       "14937  한양사이버대학교    기타  통합  [각각의 사업단 센터로 기간제기 때문에 어딜 들어가느냐가 중요합니다, 좋은분도 있고...\n",
       "14938  한양사이버대학교   워라밸  통합  [지방 사립대, 회식, 야근수당 상한선 20, 성희롱, 교직원 하대, 까다로운 행정...\n",
       "14939  한양사이버대학교   커리어  통합  [양적으로 매우 급성장한 회사이나 질적으론 그러지 못함. 특히 경영진들의 자질이, ...\n",
       "\n",
       "[14940 rows x 4 columns]"
      ]
     },
     "execution_count": 34,
     "metadata": {},
     "output_type": "execute_result"
    }
   ],
   "source": [
    "total_data"
   ]
  },
  {
   "cell_type": "markdown",
   "id": "368172db",
   "metadata": {},
   "source": [
    "## 키워드 추출"
   ]
  },
  {
   "cell_type": "code",
   "execution_count": 35,
   "id": "93274439",
   "metadata": {},
   "outputs": [],
   "source": [
    "from konlpy.tag import Mecab \n",
    "mecab = Mecab(dicpath='C:/mecab/mecab-ko-dic')"
   ]
  },
  {
   "cell_type": "code",
   "execution_count": 36,
   "id": "95da4fa3",
   "metadata": {},
   "outputs": [],
   "source": [
    "tag_classes = ['NNG', 'NNP','VA', 'VV+EC','VV+ETM', 'NP', 'NNBC', 'VA+EC','SL']\n",
    "\n",
    "def mecab_tokenizer(text):\n",
    "    result = mecab.pos(text, join = True)\n",
    "    clean_word = [w for w in result if tag_classes[0] in w or\n",
    "                  tag_classes[1] in w or tag_classes[2] in w or tag_classes[3] in w or tag_classes[4] in w or\n",
    "                  tag_classes[5] in w or tag_classes[6] in w or tag_classes[7] in w or tag_classes[0] in w]\n",
    "    return clean_word"
   ]
  },
  {
   "cell_type": "code",
   "execution_count": 54,
   "id": "8f36785d",
   "metadata": {},
   "outputs": [],
   "source": [
    "# 리뷰\n",
    "stopword = ['가능','강도','결정','경영','경우','관리','구조','그렇','근무','기관','기본','기업','대비','대한','따라','바이','비해','정도','따라','이상','위한','해야','해도','여기', '자기','매출','해서','코로나','나옴','인해','포인트','관련','최근','중요','위해','업계','부분','느낌','본인','다르','다닐','자체','기준','특성','처리','그룹','전체','인한','어디','의사','제외','가지','상황','분야','대해','이름','방식','자신','누구','그런지','그것','직군','우리','일반','특정','와서','거기','구성','내용','다음','가진','기타','인지','통해','대해서','형태','단위','이것저것','당시']"
   ]
  },
  {
   "cell_type": "code",
   "execution_count": 56,
   "id": "6c85a8cb",
   "metadata": {},
   "outputs": [],
   "source": [
    "from textrank import KeywordSummarizer\n",
    "\n",
    "summarizer = KeywordSummarizer(tokenize=mecab_tokenizer,\n",
    "                               min_count=2, \n",
    "                               min_cooccurrence=1)"
   ]
  },
  {
   "cell_type": "code",
   "execution_count": 62,
   "id": "17c29700",
   "metadata": {},
   "outputs": [],
   "source": [
    "# 키워드 추출\n",
    "\n",
    "name = []\n",
    "category = []\n",
    "opinion = []\n",
    "word = []\n",
    "score = []\n",
    "index = []\n",
    "\n",
    "for i in len(total_data):\n",
    "    try:\n",
    "        summary = summarizer.summarize(total_data['리뷰'][i], topk=20)\n",
    "        for nth in range(len(summary)):\n",
    "            name.append(total_data.iloc[i,]['회사명'])\n",
    "            category.append(total_data.iloc[i,]['항목'])\n",
    "            opinion.append(total_data.iloc[i,]['의견'])\n",
    "            word.append(summary[nth][0].split('/')[0])\n",
    "            score.append(summary[nth][1])\n",
    "            index.append(nth+1)\n",
    "    except:\n",
    "        pass\n",
    "    \n",
    "    \n",
    "final = pd.DataFrame()\n",
    "final['회사명'] = pd.Series(name)\n",
    "final['항목'] = pd.Series(category)\n",
    "final['의견'] = pd.Series(opinion)\n",
    "final['단어'] = pd.Series(word)\n",
    "final['빈도'] = pd.Series(score)\n",
    "final['키워드인덱스'] = pd.Series(index)\n",
    "\n",
    "final.to_excel('항목별워드클라우드_최종.xlsx', index = True)"
   ]
  }
 ],
 "metadata": {
  "kernelspec": {
   "display_name": "Python 3",
   "language": "python",
   "name": "python3"
  },
  "language_info": {
   "codemirror_mode": {
    "name": "ipython",
    "version": 3
   },
   "file_extension": ".py",
   "mimetype": "text/x-python",
   "name": "python",
   "nbconvert_exporter": "python",
   "pygments_lexer": "ipython3",
   "version": "3.8.8"
  }
 },
 "nbformat": 4,
 "nbformat_minor": 5
}
